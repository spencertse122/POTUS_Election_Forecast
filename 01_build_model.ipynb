{
 "cells": [
  {
   "cell_type": "code",
   "execution_count": null,
   "id": "5b93b4cc",
   "metadata": {},
   "outputs": [],
   "source": []
  },
  {
   "cell_type": "code",
   "execution_count": null,
   "id": "37edc14c",
   "metadata": {},
   "outputs": [],
   "source": []
  },
  {
   "cell_type": "code",
   "execution_count": null,
   "id": "813cd7f2",
   "metadata": {},
   "outputs": [],
   "source": []
  },
  {
   "cell_type": "code",
   "execution_count": null,
   "id": "c13236ac",
   "metadata": {},
   "outputs": [],
   "source": []
  },
  {
   "cell_type": "markdown",
   "id": "fb10b23b",
   "metadata": {},
   "source": [
    "## Setups\n",
    "\n",
    "Importing libraries and stating data locations "
   ]
  },
  {
   "cell_type": "code",
   "execution_count": 1,
   "id": "c42c56d1",
   "metadata": {},
   "outputs": [],
   "source": [
    "# importing the libraries tsert\n",
    "import pandas as pd\n",
    "import numpy as np\n",
    "from sklearn import preprocessing\n"
   ]
  },
  {
   "cell_type": "code",
   "execution_count": 2,
   "id": "efeb8f92",
   "metadata": {},
   "outputs": [],
   "source": [
    "training_data = r\"data/train_potus_by_county.csv\"\n",
    "testing_data = r\"data/test_potus_by_county.csv\""
   ]
  },
  {
   "cell_type": "markdown",
   "id": "2df52194",
   "metadata": {},
   "source": [
    "## Reading in the data"
   ]
  },
  {
   "cell_type": "code",
   "execution_count": 3,
   "id": "47b005ca",
   "metadata": {},
   "outputs": [],
   "source": [
    "df = pd.read_csv(training_data)"
   ]
  },
  {
   "cell_type": "code",
   "execution_count": 4,
   "id": "175daef9",
   "metadata": {},
   "outputs": [
    {
     "data": {
      "text/html": [
       "<div>\n",
       "<style scoped>\n",
       "    .dataframe tbody tr th:only-of-type {\n",
       "        vertical-align: middle;\n",
       "    }\n",
       "\n",
       "    .dataframe tbody tr th {\n",
       "        vertical-align: top;\n",
       "    }\n",
       "\n",
       "    .dataframe thead th {\n",
       "        text-align: right;\n",
       "    }\n",
       "</style>\n",
       "<table border=\"1\" class=\"dataframe\">\n",
       "  <thead>\n",
       "    <tr style=\"text-align: right;\">\n",
       "      <th></th>\n",
       "      <th>Total population</th>\n",
       "      <th>Median age</th>\n",
       "      <th>% BachelorsDeg or higher</th>\n",
       "      <th>Unemployment rate</th>\n",
       "      <th>Per capita income</th>\n",
       "      <th>Total households</th>\n",
       "      <th>Average household size</th>\n",
       "      <th>% Owner occupied housing</th>\n",
       "      <th>% Renter occupied housing</th>\n",
       "      <th>% Vacant housing</th>\n",
       "      <th>Median home value</th>\n",
       "      <th>Population growth</th>\n",
       "      <th>House hold growth</th>\n",
       "      <th>Per capita income growth</th>\n",
       "      <th>Winner</th>\n",
       "    </tr>\n",
       "  </thead>\n",
       "  <tbody>\n",
       "    <tr>\n",
       "      <th>0</th>\n",
       "      <td>9278</td>\n",
       "      <td>37.9</td>\n",
       "      <td>12.6</td>\n",
       "      <td>21.3</td>\n",
       "      <td>13992.0</td>\n",
       "      <td>3802</td>\n",
       "      <td>2.42</td>\n",
       "      <td>51.9</td>\n",
       "      <td>16.6</td>\n",
       "      <td>31.6</td>\n",
       "      <td>63959.0</td>\n",
       "      <td>-0.69</td>\n",
       "      <td>-0.49</td>\n",
       "      <td>0.71</td>\n",
       "      <td>Barack Obama</td>\n",
       "    </tr>\n",
       "    <tr>\n",
       "      <th>1</th>\n",
       "      <td>18594</td>\n",
       "      <td>36.3</td>\n",
       "      <td>9.7</td>\n",
       "      <td>14.3</td>\n",
       "      <td>14622.0</td>\n",
       "      <td>6764</td>\n",
       "      <td>2.55</td>\n",
       "      <td>63.7</td>\n",
       "      <td>16.2</td>\n",
       "      <td>20.1</td>\n",
       "      <td>74330.0</td>\n",
       "      <td>-0.13</td>\n",
       "      <td>0.03</td>\n",
       "      <td>0.85</td>\n",
       "      <td>Barack Obama</td>\n",
       "    </tr>\n",
       "    <tr>\n",
       "      <th>2</th>\n",
       "      <td>662628</td>\n",
       "      <td>37.9</td>\n",
       "      <td>27.9</td>\n",
       "      <td>12.1</td>\n",
       "      <td>23909.0</td>\n",
       "      <td>267862</td>\n",
       "      <td>2.41</td>\n",
       "      <td>57.0</td>\n",
       "      <td>28.8</td>\n",
       "      <td>14.2</td>\n",
       "      <td>112687.0</td>\n",
       "      <td>-0.09</td>\n",
       "      <td>0.00</td>\n",
       "      <td>0.55</td>\n",
       "      <td>Barack Obama</td>\n",
       "    </tr>\n",
       "    <tr>\n",
       "      <th>3</th>\n",
       "      <td>21292</td>\n",
       "      <td>38.9</td>\n",
       "      <td>14.1</td>\n",
       "      <td>15.7</td>\n",
       "      <td>16829.0</td>\n",
       "      <td>8547</td>\n",
       "      <td>2.47</td>\n",
       "      <td>63.5</td>\n",
       "      <td>17.1</td>\n",
       "      <td>19.4</td>\n",
       "      <td>73643.0</td>\n",
       "      <td>-0.59</td>\n",
       "      <td>-0.43</td>\n",
       "      <td>0.57</td>\n",
       "      <td>Barack Obama</td>\n",
       "    </tr>\n",
       "    <tr>\n",
       "      <th>4</th>\n",
       "      <td>13252</td>\n",
       "      <td>34.5</td>\n",
       "      <td>15.0</td>\n",
       "      <td>15.8</td>\n",
       "      <td>13012.0</td>\n",
       "      <td>5222</td>\n",
       "      <td>2.47</td>\n",
       "      <td>53.7</td>\n",
       "      <td>20.7</td>\n",
       "      <td>25.6</td>\n",
       "      <td>56642.0</td>\n",
       "      <td>-1.16</td>\n",
       "      <td>-1.03</td>\n",
       "      <td>0.69</td>\n",
       "      <td>Barack Obama</td>\n",
       "    </tr>\n",
       "  </tbody>\n",
       "</table>\n",
       "</div>"
      ],
      "text/plain": [
       "   Total population  Median age  % BachelorsDeg or higher  Unemployment rate  \\\n",
       "0              9278        37.9                      12.6               21.3   \n",
       "1             18594        36.3                       9.7               14.3   \n",
       "2            662628        37.9                      27.9               12.1   \n",
       "3             21292        38.9                      14.1               15.7   \n",
       "4             13252        34.5                      15.0               15.8   \n",
       "\n",
       "   Per capita income  Total households  Average household size  \\\n",
       "0            13992.0              3802                    2.42   \n",
       "1            14622.0              6764                    2.55   \n",
       "2            23909.0            267862                    2.41   \n",
       "3            16829.0              8547                    2.47   \n",
       "4            13012.0              5222                    2.47   \n",
       "\n",
       "   % Owner occupied housing  % Renter occupied housing  % Vacant housing  \\\n",
       "0                      51.9                       16.6              31.6   \n",
       "1                      63.7                       16.2              20.1   \n",
       "2                      57.0                       28.8              14.2   \n",
       "3                      63.5                       17.1              19.4   \n",
       "4                      53.7                       20.7              25.6   \n",
       "\n",
       "   Median home value  Population growth  House hold growth  \\\n",
       "0            63959.0              -0.69              -0.49   \n",
       "1            74330.0              -0.13               0.03   \n",
       "2           112687.0              -0.09               0.00   \n",
       "3            73643.0              -0.59              -0.43   \n",
       "4            56642.0              -1.16              -1.03   \n",
       "\n",
       "   Per capita income growth        Winner  \n",
       "0                      0.71  Barack Obama  \n",
       "1                      0.85  Barack Obama  \n",
       "2                      0.55  Barack Obama  \n",
       "3                      0.57  Barack Obama  \n",
       "4                      0.69  Barack Obama  "
      ]
     },
     "execution_count": 4,
     "metadata": {},
     "output_type": "execute_result"
    }
   ],
   "source": [
    "# Checking how the data looks\n",
    "df.head(5)"
   ]
  },
  {
   "cell_type": "code",
   "execution_count": 5,
   "id": "1e8c9913",
   "metadata": {},
   "outputs": [
    {
     "name": "stdout",
     "output_type": "stream",
     "text": [
      "<class 'pandas.core.frame.DataFrame'>\n",
      "RangeIndex: 1213 entries, 0 to 1212\n",
      "Data columns (total 15 columns):\n",
      " #   Column                     Non-Null Count  Dtype  \n",
      "---  ------                     --------------  -----  \n",
      " 0   Total population           1213 non-null   int64  \n",
      " 1   Median age                 1213 non-null   float64\n",
      " 2   % BachelorsDeg or higher   1213 non-null   float64\n",
      " 3   Unemployment rate          1213 non-null   float64\n",
      " 4   Per capita income          1213 non-null   float64\n",
      " 5   Total households           1213 non-null   int64  \n",
      " 6   Average household size     1213 non-null   float64\n",
      " 7   % Owner occupied housing   1213 non-null   float64\n",
      " 8   % Renter occupied housing  1213 non-null   float64\n",
      " 9   % Vacant housing           1213 non-null   float64\n",
      " 10  Median home value          1213 non-null   float64\n",
      " 11  Population growth          1213 non-null   float64\n",
      " 12  House hold growth          1213 non-null   float64\n",
      " 13  Per capita income growth   1213 non-null   float64\n",
      " 14  Winner                     1213 non-null   object \n",
      "dtypes: float64(12), int64(2), object(1)\n",
      "memory usage: 142.3+ KB\n"
     ]
    }
   ],
   "source": [
    "# Checking for null values\n",
    "df.info()"
   ]
  },
  {
   "cell_type": "code",
   "execution_count": 6,
   "id": "bf3db5a1",
   "metadata": {},
   "outputs": [
    {
     "data": {
      "text/html": [
       "<div>\n",
       "<style scoped>\n",
       "    .dataframe tbody tr th:only-of-type {\n",
       "        vertical-align: middle;\n",
       "    }\n",
       "\n",
       "    .dataframe tbody tr th {\n",
       "        vertical-align: top;\n",
       "    }\n",
       "\n",
       "    .dataframe thead th {\n",
       "        text-align: right;\n",
       "    }\n",
       "</style>\n",
       "<table border=\"1\" class=\"dataframe\">\n",
       "  <thead>\n",
       "    <tr style=\"text-align: right;\">\n",
       "      <th></th>\n",
       "      <th>Total population</th>\n",
       "      <th>Median age</th>\n",
       "      <th>% BachelorsDeg or higher</th>\n",
       "      <th>Unemployment rate</th>\n",
       "      <th>Per capita income</th>\n",
       "      <th>Total households</th>\n",
       "      <th>Average household size</th>\n",
       "      <th>% Owner occupied housing</th>\n",
       "      <th>% Renter occupied housing</th>\n",
       "      <th>% Vacant housing</th>\n",
       "      <th>Median home value</th>\n",
       "      <th>Population growth</th>\n",
       "      <th>House hold growth</th>\n",
       "      <th>Per capita income growth</th>\n",
       "    </tr>\n",
       "  </thead>\n",
       "  <tbody>\n",
       "    <tr>\n",
       "      <th>count</th>\n",
       "      <td>1.213000e+03</td>\n",
       "      <td>1213.000000</td>\n",
       "      <td>1213.000000</td>\n",
       "      <td>1213.000000</td>\n",
       "      <td>1213.000000</td>\n",
       "      <td>1.213000e+03</td>\n",
       "      <td>1213.000000</td>\n",
       "      <td>1213.000000</td>\n",
       "      <td>1213.000000</td>\n",
       "      <td>1213.000000</td>\n",
       "      <td>1213.000000</td>\n",
       "      <td>1213.000000</td>\n",
       "      <td>1213.000000</td>\n",
       "      <td>1213.000000</td>\n",
       "    </tr>\n",
       "    <tr>\n",
       "      <th>mean</th>\n",
       "      <td>1.019248e+05</td>\n",
       "      <td>39.954493</td>\n",
       "      <td>19.186480</td>\n",
       "      <td>9.837593</td>\n",
       "      <td>21118.305853</td>\n",
       "      <td>3.805129e+04</td>\n",
       "      <td>2.493817</td>\n",
       "      <td>60.339324</td>\n",
       "      <td>21.881946</td>\n",
       "      <td>17.779225</td>\n",
       "      <td>118892.893652</td>\n",
       "      <td>0.255754</td>\n",
       "      <td>0.340956</td>\n",
       "      <td>2.030660</td>\n",
       "    </tr>\n",
       "    <tr>\n",
       "      <th>std</th>\n",
       "      <td>3.659055e+05</td>\n",
       "      <td>4.652347</td>\n",
       "      <td>8.405849</td>\n",
       "      <td>3.865796</td>\n",
       "      <td>5046.038916</td>\n",
       "      <td>1.246130e+05</td>\n",
       "      <td>0.203625</td>\n",
       "      <td>8.929037</td>\n",
       "      <td>7.398402</td>\n",
       "      <td>10.125619</td>\n",
       "      <td>71060.359705</td>\n",
       "      <td>0.933166</td>\n",
       "      <td>0.939244</td>\n",
       "      <td>0.742566</td>\n",
       "    </tr>\n",
       "    <tr>\n",
       "      <th>min</th>\n",
       "      <td>3.240000e+02</td>\n",
       "      <td>24.500000</td>\n",
       "      <td>6.400000</td>\n",
       "      <td>1.000000</td>\n",
       "      <td>7908.000000</td>\n",
       "      <td>9.800000e+01</td>\n",
       "      <td>1.840000</td>\n",
       "      <td>15.000000</td>\n",
       "      <td>4.600000</td>\n",
       "      <td>2.600000</td>\n",
       "      <td>29622.000000</td>\n",
       "      <td>-2.090000</td>\n",
       "      <td>-2.120000</td>\n",
       "      <td>0.050000</td>\n",
       "    </tr>\n",
       "    <tr>\n",
       "      <th>25%</th>\n",
       "      <td>1.162900e+04</td>\n",
       "      <td>37.300000</td>\n",
       "      <td>13.400000</td>\n",
       "      <td>7.400000</td>\n",
       "      <td>17989.000000</td>\n",
       "      <td>4.555000e+03</td>\n",
       "      <td>2.360000</td>\n",
       "      <td>55.800000</td>\n",
       "      <td>17.300000</td>\n",
       "      <td>10.800000</td>\n",
       "      <td>78313.000000</td>\n",
       "      <td>-0.360000</td>\n",
       "      <td>-0.250000</td>\n",
       "      <td>1.680000</td>\n",
       "    </tr>\n",
       "    <tr>\n",
       "      <th>50%</th>\n",
       "      <td>2.591600e+04</td>\n",
       "      <td>40.000000</td>\n",
       "      <td>17.100000</td>\n",
       "      <td>9.600000</td>\n",
       "      <td>20265.000000</td>\n",
       "      <td>1.000800e+04</td>\n",
       "      <td>2.460000</td>\n",
       "      <td>61.800000</td>\n",
       "      <td>20.600000</td>\n",
       "      <td>15.000000</td>\n",
       "      <td>100381.000000</td>\n",
       "      <td>0.070000</td>\n",
       "      <td>0.160000</td>\n",
       "      <td>2.130000</td>\n",
       "    </tr>\n",
       "    <tr>\n",
       "      <th>75%</th>\n",
       "      <td>6.743000e+04</td>\n",
       "      <td>42.800000</td>\n",
       "      <td>22.200000</td>\n",
       "      <td>12.100000</td>\n",
       "      <td>23217.000000</td>\n",
       "      <td>2.583000e+04</td>\n",
       "      <td>2.580000</td>\n",
       "      <td>66.200000</td>\n",
       "      <td>25.000000</td>\n",
       "      <td>21.900000</td>\n",
       "      <td>135466.000000</td>\n",
       "      <td>0.720000</td>\n",
       "      <td>0.780000</td>\n",
       "      <td>2.570000</td>\n",
       "    </tr>\n",
       "    <tr>\n",
       "      <th>max</th>\n",
       "      <td>1.024050e+07</td>\n",
       "      <td>56.600000</td>\n",
       "      <td>61.600000</td>\n",
       "      <td>26.500000</td>\n",
       "      <td>51818.000000</td>\n",
       "      <td>3.292577e+06</td>\n",
       "      <td>3.710000</td>\n",
       "      <td>81.900000</td>\n",
       "      <td>74.200000</td>\n",
       "      <td>65.900000</td>\n",
       "      <td>815417.000000</td>\n",
       "      <td>6.070000</td>\n",
       "      <td>6.420000</td>\n",
       "      <td>4.180000</td>\n",
       "    </tr>\n",
       "  </tbody>\n",
       "</table>\n",
       "</div>"
      ],
      "text/plain": [
       "       Total population   Median age  % BachelorsDeg or higher  \\\n",
       "count      1.213000e+03  1213.000000               1213.000000   \n",
       "mean       1.019248e+05    39.954493                 19.186480   \n",
       "std        3.659055e+05     4.652347                  8.405849   \n",
       "min        3.240000e+02    24.500000                  6.400000   \n",
       "25%        1.162900e+04    37.300000                 13.400000   \n",
       "50%        2.591600e+04    40.000000                 17.100000   \n",
       "75%        6.743000e+04    42.800000                 22.200000   \n",
       "max        1.024050e+07    56.600000                 61.600000   \n",
       "\n",
       "       Unemployment rate  Per capita income  Total households  \\\n",
       "count        1213.000000        1213.000000      1.213000e+03   \n",
       "mean            9.837593       21118.305853      3.805129e+04   \n",
       "std             3.865796        5046.038916      1.246130e+05   \n",
       "min             1.000000        7908.000000      9.800000e+01   \n",
       "25%             7.400000       17989.000000      4.555000e+03   \n",
       "50%             9.600000       20265.000000      1.000800e+04   \n",
       "75%            12.100000       23217.000000      2.583000e+04   \n",
       "max            26.500000       51818.000000      3.292577e+06   \n",
       "\n",
       "       Average household size  % Owner occupied housing  \\\n",
       "count             1213.000000               1213.000000   \n",
       "mean                 2.493817                 60.339324   \n",
       "std                  0.203625                  8.929037   \n",
       "min                  1.840000                 15.000000   \n",
       "25%                  2.360000                 55.800000   \n",
       "50%                  2.460000                 61.800000   \n",
       "75%                  2.580000                 66.200000   \n",
       "max                  3.710000                 81.900000   \n",
       "\n",
       "       % Renter occupied housing  % Vacant housing  Median home value  \\\n",
       "count                1213.000000       1213.000000        1213.000000   \n",
       "mean                   21.881946         17.779225      118892.893652   \n",
       "std                     7.398402         10.125619       71060.359705   \n",
       "min                     4.600000          2.600000       29622.000000   \n",
       "25%                    17.300000         10.800000       78313.000000   \n",
       "50%                    20.600000         15.000000      100381.000000   \n",
       "75%                    25.000000         21.900000      135466.000000   \n",
       "max                    74.200000         65.900000      815417.000000   \n",
       "\n",
       "       Population growth  House hold growth  Per capita income growth  \n",
       "count        1213.000000        1213.000000               1213.000000  \n",
       "mean            0.255754           0.340956                  2.030660  \n",
       "std             0.933166           0.939244                  0.742566  \n",
       "min            -2.090000          -2.120000                  0.050000  \n",
       "25%            -0.360000          -0.250000                  1.680000  \n",
       "50%             0.070000           0.160000                  2.130000  \n",
       "75%             0.720000           0.780000                  2.570000  \n",
       "max             6.070000           6.420000                  4.180000  "
      ]
     },
     "execution_count": 6,
     "metadata": {},
     "output_type": "execute_result"
    }
   ],
   "source": [
    "# Briefly checking the value distribution\n",
    "df.describe()"
   ]
  },
  {
   "cell_type": "code",
   "execution_count": 7,
   "id": "7400a33e",
   "metadata": {},
   "outputs": [
    {
     "data": {
      "text/plain": [
       "Winner\n",
       "Barack Obama    264\n",
       "Mitt Romney     949\n",
       "dtype: int64"
      ]
     },
     "execution_count": 7,
     "metadata": {},
     "output_type": "execute_result"
    }
   ],
   "source": [
    "# checking if the data is balanced\n",
    "df.groupby(\"Winner\").size()"
   ]
  },
  {
   "cell_type": "markdown",
   "id": "e06aecd4",
   "metadata": {},
   "source": [
    "## Binary Encode the Winner column"
   ]
  },
  {
   "cell_type": "code",
   "execution_count": 8,
   "id": "5e71a23a",
   "metadata": {},
   "outputs": [
    {
     "data": {
      "text/plain": [
       "LabelEncoder()"
      ]
     },
     "execution_count": 8,
     "metadata": {},
     "output_type": "execute_result"
    }
   ],
   "source": [
    "# Binary encode the the winner column\n",
    "le = preprocessing.LabelEncoder()\n",
    "le.fit(df['Winner'])"
   ]
  },
  {
   "cell_type": "code",
   "execution_count": 9,
   "id": "b6a7362f",
   "metadata": {},
   "outputs": [
    {
     "data": {
      "text/plain": [
       "array(['Barack Obama', 'Mitt Romney'], dtype=object)"
      ]
     },
     "execution_count": 9,
     "metadata": {},
     "output_type": "execute_result"
    }
   ],
   "source": [
    "df['Winner'] = le.transform(df['Winner'].copy())\n",
    "le.classes_"
   ]
  },
  {
   "cell_type": "code",
   "execution_count": 10,
   "id": "3e0393ba",
   "metadata": {},
   "outputs": [
    {
     "data": {
      "text/plain": [
       "array([0, 1])"
      ]
     },
     "execution_count": 10,
     "metadata": {},
     "output_type": "execute_result"
    }
   ],
   "source": [
    "# Checking for the encoded version of the tag column\n",
    "df['Winner'].unique()"
   ]
  },
  {
   "cell_type": "markdown",
   "id": "aa740358",
   "metadata": {},
   "source": [
    "## Performing a train test split"
   ]
  },
  {
   "cell_type": "code",
   "execution_count": 11,
   "id": "50550af7",
   "metadata": {},
   "outputs": [],
   "source": [
    "# Importing the preparation libraries\n",
    "from sklearn.model_selection import StratifiedShuffleSplit\n",
    "from sklearn.model_selection import train_test_split"
   ]
  },
  {
   "cell_type": "code",
   "execution_count": 12,
   "id": "4c3e807d",
   "metadata": {},
   "outputs": [],
   "source": [
    "# Splitting up the feature vs label columns\n",
    "features_col = [i for i in df.columns if i != \"Winner\"]\n",
    "\n",
    "# Changing the data set into numpy array for preparation\n",
    "X = np.array(df[features_col])\n",
    "y = np.array(df['Winner'])"
   ]
  },
  {
   "cell_type": "code",
   "execution_count": 13,
   "id": "e22d1247",
   "metadata": {},
   "outputs": [],
   "source": [
    "# Perform a simple train test split\n",
    "X_train, X_test, y_train, y_test = train_test_split(\n",
    "                                                X, \n",
    "                                                y, \n",
    "                                                random_state=1,\n",
    "                                                shuffle=True,\n",
    "                                                stratify=y\n",
    "                                            )"
   ]
  },
  {
   "cell_type": "code",
   "execution_count": 14,
   "id": "68b07bc8",
   "metadata": {},
   "outputs": [],
   "source": [
    "# # Setting up the Stratified Shuffle Split\n",
    "# sss = StratifiedShuffleSplit(n_splits=7, test_size=0.5, random_state=0)\n",
    "# scaler = StandardScaler()"
   ]
  },
  {
   "cell_type": "code",
   "execution_count": 15,
   "id": "4237e348",
   "metadata": {
    "scrolled": false
   },
   "outputs": [],
   "source": [
    "# # Use the shuffle\n",
    "# for train_index, test_index in sss.split(X, y):\n",
    "#     X_train, X_test = X[train_index], X[test_index]\n",
    "#     y_train, y_test = y[train_index], y[test_index]\n",
    "#     print(len(y_train))\n",
    "#     print(y_train.sum())\n",
    "#     print(train_index[:5])\n",
    "#     print('-'*20)"
   ]
  },
  {
   "cell_type": "code",
   "execution_count": null,
   "id": "8aed5e5e",
   "metadata": {},
   "outputs": [],
   "source": []
  },
  {
   "cell_type": "code",
   "execution_count": 16,
   "id": "a34fb616",
   "metadata": {},
   "outputs": [],
   "source": [
    "from imblearn.over_sampling import SMOTE\n",
    "\n",
    "X_resampled, y_resampled = SMOTE(random_state=1, sampling_strategy=1.0).fit_resample(\n",
    "                                                        X_train, y_train\n",
    "                                                    )"
   ]
  },
  {
   "cell_type": "code",
   "execution_count": 21,
   "id": "7943db6c",
   "metadata": {},
   "outputs": [
    {
     "data": {
      "text/plain": [
       "StandardScaler()"
      ]
     },
     "execution_count": 21,
     "metadata": {},
     "output_type": "execute_result"
    }
   ],
   "source": [
    "from sklearn.preprocessing import StandardScaler\n",
    "\n",
    "scaler = StandardScaler()\n",
    "scaler.fit(X_resampled)"
   ]
  },
  {
   "cell_type": "code",
   "execution_count": 22,
   "id": "ba838cae",
   "metadata": {},
   "outputs": [],
   "source": [
    "X_resampled_standardized = scaler.transform(X_resampled)"
   ]
  },
  {
   "cell_type": "code",
   "execution_count": null,
   "id": "6506ec49",
   "metadata": {},
   "outputs": [],
   "source": []
  },
  {
   "cell_type": "code",
   "execution_count": 23,
   "id": "5c9080ad",
   "metadata": {},
   "outputs": [
    {
     "data": {
      "text/plain": [
       "1422"
      ]
     },
     "execution_count": 23,
     "metadata": {},
     "output_type": "execute_result"
    }
   ],
   "source": [
    "len(X_resampled_standardized)"
   ]
  },
  {
   "cell_type": "code",
   "execution_count": null,
   "id": "2e81fd99",
   "metadata": {},
   "outputs": [],
   "source": []
  },
  {
   "cell_type": "code",
   "execution_count": 24,
   "id": "69decb8a",
   "metadata": {},
   "outputs": [],
   "source": [
    "from sklearn.svm import SVC\n",
    "\n",
    "model = SVC(kernel='linear')\n",
    "# model.fit(X_resampled_standardized, y_resampled)"
   ]
  },
  {
   "cell_type": "code",
   "execution_count": null,
   "id": "ac2ddcf7",
   "metadata": {},
   "outputs": [],
   "source": [
    "model.fit(X_train, y_train)"
   ]
  },
  {
   "cell_type": "code",
   "execution_count": null,
   "id": "eda037a2",
   "metadata": {},
   "outputs": [],
   "source": []
  },
  {
   "cell_type": "code",
   "execution_count": null,
   "id": "9b12cda7",
   "metadata": {},
   "outputs": [],
   "source": []
  },
  {
   "cell_type": "code",
   "execution_count": null,
   "id": "d6e98ca0",
   "metadata": {},
   "outputs": [],
   "source": []
  },
  {
   "cell_type": "code",
   "execution_count": null,
   "id": "a951a702",
   "metadata": {},
   "outputs": [],
   "source": []
  },
  {
   "cell_type": "code",
   "execution_count": null,
   "id": "66ebbf1e",
   "metadata": {},
   "outputs": [],
   "source": [
    "from imblearn.metrics import classification_report_imbalanced\n",
    "\n",
    "y_pred = model.predict(X_test)\n",
    "print(classification_report_imbalanced(y_test, y_pred))"
   ]
  },
  {
   "cell_type": "code",
   "execution_count": null,
   "id": "39c25e34",
   "metadata": {},
   "outputs": [],
   "source": []
  },
  {
   "cell_type": "code",
   "execution_count": null,
   "id": "cf760799",
   "metadata": {},
   "outputs": [],
   "source": [
    "from sklearn.linear_model import "
   ]
  }
 ],
 "metadata": {
  "kernelspec": {
   "display_name": "Python 3 (ipykernel)",
   "language": "python",
   "name": "python3"
  },
  "language_info": {
   "codemirror_mode": {
    "name": "ipython",
    "version": 3
   },
   "file_extension": ".py",
   "mimetype": "text/x-python",
   "name": "python",
   "nbconvert_exporter": "python",
   "pygments_lexer": "ipython3",
   "version": "3.9.7"
  }
 },
 "nbformat": 4,
 "nbformat_minor": 5
}
