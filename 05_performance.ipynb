{
 "cells": [
  {
   "cell_type": "markdown",
   "id": "8a1ad855",
   "metadata": {},
   "source": [
    "# Performance\n",
    "\n",
    "A file which provides a walkthrough about the expected performance of your model, how you evaluated the best model, should include the software dependencies for your code, any notes about how you chose your model, how you engineered your features, what other options you wanted to explore but didn't have time, any graphs/visualizations"
   ]
  },
  {
   "cell_type": "code",
   "execution_count": null,
   "id": "39b39e87",
   "metadata": {},
   "outputs": [],
   "source": []
  }
 ],
 "metadata": {
  "kernelspec": {
   "display_name": "Python 3 (ipykernel)",
   "language": "python",
   "name": "python3"
  },
  "language_info": {
   "codemirror_mode": {
    "name": "ipython",
    "version": 3
   },
   "file_extension": ".py",
   "mimetype": "text/x-python",
   "name": "python",
   "nbconvert_exporter": "python",
   "pygments_lexer": "ipython3",
   "version": "3.9.7"
  }
 },
 "nbformat": 4,
 "nbformat_minor": 5
}
