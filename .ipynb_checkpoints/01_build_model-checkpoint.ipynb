{
 "cells": [
  {
   "cell_type": "markdown",
   "id": "0629f80c",
   "metadata": {},
   "source": [
    "# 01 - Build Model\n",
    "---\n",
    "\n",
    "### Description:\n",
    "build_model script: should read train_potus_by_county.csv and then build, train and tune your best predictive model. The script should save your best model to the filesystem and it should also log data about the expected performance of the model\n",
    "\n",
    "### Sections:\n",
    "1. Setups & Reading in the Data\n",
    "2. Exploration\n",
    "3. Binary Encoding the Winner Column\n",
    "4. Perform Train Test Split and Standardization\n",
    "5. Model Selection and First Attempt\n",
    "6. Explore resampling techniques\n",
    "7. Adding PCA\n",
    "8. Exporting Model"
   ]
  },
  {
   "cell_type": "markdown",
   "id": "96a462a7",
   "metadata": {},
   "source": [
    "## 1. Setups & Reading in the Data\n",
    "\n",
    "Importing libraries and stating data locations "
   ]
  },
  {
   "cell_type": "code",
   "execution_count": 1,
   "id": "3b833966",
   "metadata": {},
   "outputs": [],
   "source": [
    "# importing the libraries tsert\n",
    "import pandas as pd\n",
    "import numpy as np\n",
    "\n",
    "from sklearn.svm import SVC\n",
    "from sklearn.model_selection import train_test_split\n",
    "\n",
    "from imblearn.over_sampling import RandomOverSampler\n",
    "from imblearn.metrics import classification_report_imbalanced\n",
    "\n",
    "import matplotlib.pyplot as plt\n",
    "import seaborn as sns\n",
    "\n",
    "from sklearn.metrics import accuracy_score\n",
    "\n",
    "from collections import Counter"
   ]
  },
  {
   "cell_type": "code",
   "execution_count": 2,
   "id": "d83030c9",
   "metadata": {},
   "outputs": [],
   "source": [
    "# Stating the file locations\n",
    "training_data = r\"data/train_potus_by_county.csv\"\n",
    "testing_data = r\"data/test_potus_by_county.csv\""
   ]
  },
  {
   "cell_type": "code",
   "execution_count": 3,
   "id": "18549049",
   "metadata": {},
   "outputs": [],
   "source": [
    "# Reading in the data\n",
    "df = pd.read_csv(training_data)"
   ]
  },
  {
   "cell_type": "markdown",
   "id": "34054bc7",
   "metadata": {},
   "source": [
    "## 2. Exploration\n",
    "\n",
    "Getting a high level overview of the data set"
   ]
  },
  {
   "cell_type": "code",
   "execution_count": 4,
   "id": "31c84d76",
   "metadata": {},
   "outputs": [
    {
     "data": {
      "text/html": [
       "<div>\n",
       "<style scoped>\n",
       "    .dataframe tbody tr th:only-of-type {\n",
       "        vertical-align: middle;\n",
       "    }\n",
       "\n",
       "    .dataframe tbody tr th {\n",
       "        vertical-align: top;\n",
       "    }\n",
       "\n",
       "    .dataframe thead th {\n",
       "        text-align: right;\n",
       "    }\n",
       "</style>\n",
       "<table border=\"1\" class=\"dataframe\">\n",
       "  <thead>\n",
       "    <tr style=\"text-align: right;\">\n",
       "      <th></th>\n",
       "      <th>Total population</th>\n",
       "      <th>Median age</th>\n",
       "      <th>% BachelorsDeg or higher</th>\n",
       "      <th>Unemployment rate</th>\n",
       "      <th>Per capita income</th>\n",
       "      <th>Total households</th>\n",
       "      <th>Average household size</th>\n",
       "      <th>% Owner occupied housing</th>\n",
       "      <th>% Renter occupied housing</th>\n",
       "      <th>% Vacant housing</th>\n",
       "      <th>Median home value</th>\n",
       "      <th>Population growth</th>\n",
       "      <th>House hold growth</th>\n",
       "      <th>Per capita income growth</th>\n",
       "      <th>Winner</th>\n",
       "    </tr>\n",
       "  </thead>\n",
       "  <tbody>\n",
       "    <tr>\n",
       "      <th>0</th>\n",
       "      <td>9278</td>\n",
       "      <td>37.9</td>\n",
       "      <td>12.6</td>\n",
       "      <td>21.3</td>\n",
       "      <td>13992.0</td>\n",
       "      <td>3802</td>\n",
       "      <td>2.42</td>\n",
       "      <td>51.9</td>\n",
       "      <td>16.6</td>\n",
       "      <td>31.6</td>\n",
       "      <td>63959.0</td>\n",
       "      <td>-0.69</td>\n",
       "      <td>-0.49</td>\n",
       "      <td>0.71</td>\n",
       "      <td>Barack Obama</td>\n",
       "    </tr>\n",
       "    <tr>\n",
       "      <th>1</th>\n",
       "      <td>18594</td>\n",
       "      <td>36.3</td>\n",
       "      <td>9.7</td>\n",
       "      <td>14.3</td>\n",
       "      <td>14622.0</td>\n",
       "      <td>6764</td>\n",
       "      <td>2.55</td>\n",
       "      <td>63.7</td>\n",
       "      <td>16.2</td>\n",
       "      <td>20.1</td>\n",
       "      <td>74330.0</td>\n",
       "      <td>-0.13</td>\n",
       "      <td>0.03</td>\n",
       "      <td>0.85</td>\n",
       "      <td>Barack Obama</td>\n",
       "    </tr>\n",
       "    <tr>\n",
       "      <th>2</th>\n",
       "      <td>662628</td>\n",
       "      <td>37.9</td>\n",
       "      <td>27.9</td>\n",
       "      <td>12.1</td>\n",
       "      <td>23909.0</td>\n",
       "      <td>267862</td>\n",
       "      <td>2.41</td>\n",
       "      <td>57.0</td>\n",
       "      <td>28.8</td>\n",
       "      <td>14.2</td>\n",
       "      <td>112687.0</td>\n",
       "      <td>-0.09</td>\n",
       "      <td>0.00</td>\n",
       "      <td>0.55</td>\n",
       "      <td>Barack Obama</td>\n",
       "    </tr>\n",
       "    <tr>\n",
       "      <th>3</th>\n",
       "      <td>21292</td>\n",
       "      <td>38.9</td>\n",
       "      <td>14.1</td>\n",
       "      <td>15.7</td>\n",
       "      <td>16829.0</td>\n",
       "      <td>8547</td>\n",
       "      <td>2.47</td>\n",
       "      <td>63.5</td>\n",
       "      <td>17.1</td>\n",
       "      <td>19.4</td>\n",
       "      <td>73643.0</td>\n",
       "      <td>-0.59</td>\n",
       "      <td>-0.43</td>\n",
       "      <td>0.57</td>\n",
       "      <td>Barack Obama</td>\n",
       "    </tr>\n",
       "    <tr>\n",
       "      <th>4</th>\n",
       "      <td>13252</td>\n",
       "      <td>34.5</td>\n",
       "      <td>15.0</td>\n",
       "      <td>15.8</td>\n",
       "      <td>13012.0</td>\n",
       "      <td>5222</td>\n",
       "      <td>2.47</td>\n",
       "      <td>53.7</td>\n",
       "      <td>20.7</td>\n",
       "      <td>25.6</td>\n",
       "      <td>56642.0</td>\n",
       "      <td>-1.16</td>\n",
       "      <td>-1.03</td>\n",
       "      <td>0.69</td>\n",
       "      <td>Barack Obama</td>\n",
       "    </tr>\n",
       "  </tbody>\n",
       "</table>\n",
       "</div>"
      ],
      "text/plain": [
       "   Total population  Median age  % BachelorsDeg or higher  Unemployment rate  \\\n",
       "0              9278        37.9                      12.6               21.3   \n",
       "1             18594        36.3                       9.7               14.3   \n",
       "2            662628        37.9                      27.9               12.1   \n",
       "3             21292        38.9                      14.1               15.7   \n",
       "4             13252        34.5                      15.0               15.8   \n",
       "\n",
       "   Per capita income  Total households  Average household size  \\\n",
       "0            13992.0              3802                    2.42   \n",
       "1            14622.0              6764                    2.55   \n",
       "2            23909.0            267862                    2.41   \n",
       "3            16829.0              8547                    2.47   \n",
       "4            13012.0              5222                    2.47   \n",
       "\n",
       "   % Owner occupied housing  % Renter occupied housing  % Vacant housing  \\\n",
       "0                      51.9                       16.6              31.6   \n",
       "1                      63.7                       16.2              20.1   \n",
       "2                      57.0                       28.8              14.2   \n",
       "3                      63.5                       17.1              19.4   \n",
       "4                      53.7                       20.7              25.6   \n",
       "\n",
       "   Median home value  Population growth  House hold growth  \\\n",
       "0            63959.0              -0.69              -0.49   \n",
       "1            74330.0              -0.13               0.03   \n",
       "2           112687.0              -0.09               0.00   \n",
       "3            73643.0              -0.59              -0.43   \n",
       "4            56642.0              -1.16              -1.03   \n",
       "\n",
       "   Per capita income growth        Winner  \n",
       "0                      0.71  Barack Obama  \n",
       "1                      0.85  Barack Obama  \n",
       "2                      0.55  Barack Obama  \n",
       "3                      0.57  Barack Obama  \n",
       "4                      0.69  Barack Obama  "
      ]
     },
     "execution_count": 4,
     "metadata": {},
     "output_type": "execute_result"
    }
   ],
   "source": [
    "# Checking how the data looks\n",
    "df.head(5)"
   ]
  },
  {
   "cell_type": "code",
   "execution_count": 5,
   "id": "ba3fd9b5",
   "metadata": {},
   "outputs": [
    {
     "name": "stdout",
     "output_type": "stream",
     "text": [
      "<class 'pandas.core.frame.DataFrame'>\n",
      "RangeIndex: 1213 entries, 0 to 1212\n",
      "Data columns (total 15 columns):\n",
      " #   Column                     Non-Null Count  Dtype  \n",
      "---  ------                     --------------  -----  \n",
      " 0   Total population           1213 non-null   int64  \n",
      " 1   Median age                 1213 non-null   float64\n",
      " 2   % BachelorsDeg or higher   1213 non-null   float64\n",
      " 3   Unemployment rate          1213 non-null   float64\n",
      " 4   Per capita income          1213 non-null   float64\n",
      " 5   Total households           1213 non-null   int64  \n",
      " 6   Average household size     1213 non-null   float64\n",
      " 7   % Owner occupied housing   1213 non-null   float64\n",
      " 8   % Renter occupied housing  1213 non-null   float64\n",
      " 9   % Vacant housing           1213 non-null   float64\n",
      " 10  Median home value          1213 non-null   float64\n",
      " 11  Population growth          1213 non-null   float64\n",
      " 12  House hold growth          1213 non-null   float64\n",
      " 13  Per capita income growth   1213 non-null   float64\n",
      " 14  Winner                     1213 non-null   object \n",
      "dtypes: float64(12), int64(2), object(1)\n",
      "memory usage: 142.3+ KB\n"
     ]
    }
   ],
   "source": [
    "# Checking for null values\n",
    "df.info()"
   ]
  },
  {
   "cell_type": "code",
   "execution_count": 6,
   "id": "187ab27a",
   "metadata": {},
   "outputs": [
    {
     "data": {
      "text/html": [
       "<div>\n",
       "<style scoped>\n",
       "    .dataframe tbody tr th:only-of-type {\n",
       "        vertical-align: middle;\n",
       "    }\n",
       "\n",
       "    .dataframe tbody tr th {\n",
       "        vertical-align: top;\n",
       "    }\n",
       "\n",
       "    .dataframe thead th {\n",
       "        text-align: right;\n",
       "    }\n",
       "</style>\n",
       "<table border=\"1\" class=\"dataframe\">\n",
       "  <thead>\n",
       "    <tr style=\"text-align: right;\">\n",
       "      <th></th>\n",
       "      <th>Total population</th>\n",
       "      <th>Median age</th>\n",
       "      <th>% BachelorsDeg or higher</th>\n",
       "      <th>Unemployment rate</th>\n",
       "      <th>Per capita income</th>\n",
       "      <th>Total households</th>\n",
       "      <th>Average household size</th>\n",
       "      <th>% Owner occupied housing</th>\n",
       "      <th>% Renter occupied housing</th>\n",
       "      <th>% Vacant housing</th>\n",
       "      <th>Median home value</th>\n",
       "      <th>Population growth</th>\n",
       "      <th>House hold growth</th>\n",
       "      <th>Per capita income growth</th>\n",
       "    </tr>\n",
       "  </thead>\n",
       "  <tbody>\n",
       "    <tr>\n",
       "      <th>count</th>\n",
       "      <td>1.213000e+03</td>\n",
       "      <td>1213.000000</td>\n",
       "      <td>1213.000000</td>\n",
       "      <td>1213.000000</td>\n",
       "      <td>1213.000000</td>\n",
       "      <td>1.213000e+03</td>\n",
       "      <td>1213.000000</td>\n",
       "      <td>1213.000000</td>\n",
       "      <td>1213.000000</td>\n",
       "      <td>1213.000000</td>\n",
       "      <td>1213.000000</td>\n",
       "      <td>1213.000000</td>\n",
       "      <td>1213.000000</td>\n",
       "      <td>1213.000000</td>\n",
       "    </tr>\n",
       "    <tr>\n",
       "      <th>mean</th>\n",
       "      <td>1.019248e+05</td>\n",
       "      <td>39.954493</td>\n",
       "      <td>19.186480</td>\n",
       "      <td>9.837593</td>\n",
       "      <td>21118.305853</td>\n",
       "      <td>3.805129e+04</td>\n",
       "      <td>2.493817</td>\n",
       "      <td>60.339324</td>\n",
       "      <td>21.881946</td>\n",
       "      <td>17.779225</td>\n",
       "      <td>118892.893652</td>\n",
       "      <td>0.255754</td>\n",
       "      <td>0.340956</td>\n",
       "      <td>2.030660</td>\n",
       "    </tr>\n",
       "    <tr>\n",
       "      <th>std</th>\n",
       "      <td>3.659055e+05</td>\n",
       "      <td>4.652347</td>\n",
       "      <td>8.405849</td>\n",
       "      <td>3.865796</td>\n",
       "      <td>5046.038916</td>\n",
       "      <td>1.246130e+05</td>\n",
       "      <td>0.203625</td>\n",
       "      <td>8.929037</td>\n",
       "      <td>7.398402</td>\n",
       "      <td>10.125619</td>\n",
       "      <td>71060.359705</td>\n",
       "      <td>0.933166</td>\n",
       "      <td>0.939244</td>\n",
       "      <td>0.742566</td>\n",
       "    </tr>\n",
       "    <tr>\n",
       "      <th>min</th>\n",
       "      <td>3.240000e+02</td>\n",
       "      <td>24.500000</td>\n",
       "      <td>6.400000</td>\n",
       "      <td>1.000000</td>\n",
       "      <td>7908.000000</td>\n",
       "      <td>9.800000e+01</td>\n",
       "      <td>1.840000</td>\n",
       "      <td>15.000000</td>\n",
       "      <td>4.600000</td>\n",
       "      <td>2.600000</td>\n",
       "      <td>29622.000000</td>\n",
       "      <td>-2.090000</td>\n",
       "      <td>-2.120000</td>\n",
       "      <td>0.050000</td>\n",
       "    </tr>\n",
       "    <tr>\n",
       "      <th>25%</th>\n",
       "      <td>1.162900e+04</td>\n",
       "      <td>37.300000</td>\n",
       "      <td>13.400000</td>\n",
       "      <td>7.400000</td>\n",
       "      <td>17989.000000</td>\n",
       "      <td>4.555000e+03</td>\n",
       "      <td>2.360000</td>\n",
       "      <td>55.800000</td>\n",
       "      <td>17.300000</td>\n",
       "      <td>10.800000</td>\n",
       "      <td>78313.000000</td>\n",
       "      <td>-0.360000</td>\n",
       "      <td>-0.250000</td>\n",
       "      <td>1.680000</td>\n",
       "    </tr>\n",
       "    <tr>\n",
       "      <th>50%</th>\n",
       "      <td>2.591600e+04</td>\n",
       "      <td>40.000000</td>\n",
       "      <td>17.100000</td>\n",
       "      <td>9.600000</td>\n",
       "      <td>20265.000000</td>\n",
       "      <td>1.000800e+04</td>\n",
       "      <td>2.460000</td>\n",
       "      <td>61.800000</td>\n",
       "      <td>20.600000</td>\n",
       "      <td>15.000000</td>\n",
       "      <td>100381.000000</td>\n",
       "      <td>0.070000</td>\n",
       "      <td>0.160000</td>\n",
       "      <td>2.130000</td>\n",
       "    </tr>\n",
       "    <tr>\n",
       "      <th>75%</th>\n",
       "      <td>6.743000e+04</td>\n",
       "      <td>42.800000</td>\n",
       "      <td>22.200000</td>\n",
       "      <td>12.100000</td>\n",
       "      <td>23217.000000</td>\n",
       "      <td>2.583000e+04</td>\n",
       "      <td>2.580000</td>\n",
       "      <td>66.200000</td>\n",
       "      <td>25.000000</td>\n",
       "      <td>21.900000</td>\n",
       "      <td>135466.000000</td>\n",
       "      <td>0.720000</td>\n",
       "      <td>0.780000</td>\n",
       "      <td>2.570000</td>\n",
       "    </tr>\n",
       "    <tr>\n",
       "      <th>max</th>\n",
       "      <td>1.024050e+07</td>\n",
       "      <td>56.600000</td>\n",
       "      <td>61.600000</td>\n",
       "      <td>26.500000</td>\n",
       "      <td>51818.000000</td>\n",
       "      <td>3.292577e+06</td>\n",
       "      <td>3.710000</td>\n",
       "      <td>81.900000</td>\n",
       "      <td>74.200000</td>\n",
       "      <td>65.900000</td>\n",
       "      <td>815417.000000</td>\n",
       "      <td>6.070000</td>\n",
       "      <td>6.420000</td>\n",
       "      <td>4.180000</td>\n",
       "    </tr>\n",
       "  </tbody>\n",
       "</table>\n",
       "</div>"
      ],
      "text/plain": [
       "       Total population   Median age  % BachelorsDeg or higher  \\\n",
       "count      1.213000e+03  1213.000000               1213.000000   \n",
       "mean       1.019248e+05    39.954493                 19.186480   \n",
       "std        3.659055e+05     4.652347                  8.405849   \n",
       "min        3.240000e+02    24.500000                  6.400000   \n",
       "25%        1.162900e+04    37.300000                 13.400000   \n",
       "50%        2.591600e+04    40.000000                 17.100000   \n",
       "75%        6.743000e+04    42.800000                 22.200000   \n",
       "max        1.024050e+07    56.600000                 61.600000   \n",
       "\n",
       "       Unemployment rate  Per capita income  Total households  \\\n",
       "count        1213.000000        1213.000000      1.213000e+03   \n",
       "mean            9.837593       21118.305853      3.805129e+04   \n",
       "std             3.865796        5046.038916      1.246130e+05   \n",
       "min             1.000000        7908.000000      9.800000e+01   \n",
       "25%             7.400000       17989.000000      4.555000e+03   \n",
       "50%             9.600000       20265.000000      1.000800e+04   \n",
       "75%            12.100000       23217.000000      2.583000e+04   \n",
       "max            26.500000       51818.000000      3.292577e+06   \n",
       "\n",
       "       Average household size  % Owner occupied housing  \\\n",
       "count             1213.000000               1213.000000   \n",
       "mean                 2.493817                 60.339324   \n",
       "std                  0.203625                  8.929037   \n",
       "min                  1.840000                 15.000000   \n",
       "25%                  2.360000                 55.800000   \n",
       "50%                  2.460000                 61.800000   \n",
       "75%                  2.580000                 66.200000   \n",
       "max                  3.710000                 81.900000   \n",
       "\n",
       "       % Renter occupied housing  % Vacant housing  Median home value  \\\n",
       "count                1213.000000       1213.000000        1213.000000   \n",
       "mean                   21.881946         17.779225      118892.893652   \n",
       "std                     7.398402         10.125619       71060.359705   \n",
       "min                     4.600000          2.600000       29622.000000   \n",
       "25%                    17.300000         10.800000       78313.000000   \n",
       "50%                    20.600000         15.000000      100381.000000   \n",
       "75%                    25.000000         21.900000      135466.000000   \n",
       "max                    74.200000         65.900000      815417.000000   \n",
       "\n",
       "       Population growth  House hold growth  Per capita income growth  \n",
       "count        1213.000000        1213.000000               1213.000000  \n",
       "mean            0.255754           0.340956                  2.030660  \n",
       "std             0.933166           0.939244                  0.742566  \n",
       "min            -2.090000          -2.120000                  0.050000  \n",
       "25%            -0.360000          -0.250000                  1.680000  \n",
       "50%             0.070000           0.160000                  2.130000  \n",
       "75%             0.720000           0.780000                  2.570000  \n",
       "max             6.070000           6.420000                  4.180000  "
      ]
     },
     "execution_count": 6,
     "metadata": {},
     "output_type": "execute_result"
    }
   ],
   "source": [
    "# Briefly checking the value distribution\n",
    "df.describe()"
   ]
  },
  {
   "cell_type": "markdown",
   "id": "4740a8df",
   "metadata": {},
   "source": [
    "It appears that the data are continuous, and values are going on a different range, we will have to do a standardization to put them all on the Normal scale."
   ]
  },
  {
   "cell_type": "code",
   "execution_count": 7,
   "id": "afce82f6",
   "metadata": {},
   "outputs": [
    {
     "data": {
      "text/plain": [
       "Winner\n",
       "Barack Obama    264\n",
       "Mitt Romney     949\n",
       "dtype: int64"
      ]
     },
     "execution_count": 7,
     "metadata": {},
     "output_type": "execute_result"
    }
   ],
   "source": [
    "# checking if the data is balanced\n",
    "df.groupby(\"Winner\").size()"
   ]
  },
  {
   "cell_type": "markdown",
   "id": "ca5adb51",
   "metadata": {},
   "source": [
    "On a quick overview, Mitt Romney has a lot more training data compare to Barack Obama. We will likely need a resampling technique."
   ]
  },
  {
   "cell_type": "markdown",
   "id": "29203ddc",
   "metadata": {},
   "source": [
    "## 3. Binary Encoding the Winner Column\n",
    "\n",
    "The label \"Barack Obama\" and \"Mitt Romney\" will need to be binary encoded into 1's and 0's before running any models."
   ]
  },
  {
   "cell_type": "code",
   "execution_count": 8,
   "id": "b6defde2",
   "metadata": {},
   "outputs": [
    {
     "data": {
      "text/plain": [
       "LabelEncoder()"
      ]
     },
     "execution_count": 8,
     "metadata": {},
     "output_type": "execute_result"
    }
   ],
   "source": [
    "# Importing Libraries\n",
    "from sklearn.preprocessing import StandardScaler, LabelEncoder\n",
    "\n",
    "# setting up the encoder\n",
    "le = LabelEncoder()\n",
    "le.fit(df['Winner'])"
   ]
  },
  {
   "cell_type": "code",
   "execution_count": 9,
   "id": "61bc2bae",
   "metadata": {},
   "outputs": [
    {
     "data": {
      "text/plain": [
       "array(['Barack Obama', 'Mitt Romney'], dtype=object)"
      ]
     },
     "execution_count": 9,
     "metadata": {},
     "output_type": "execute_result"
    }
   ],
   "source": [
    "# Performing the encoding\n",
    "df['Winner'] = le.transform(df['Winner'].copy())\n",
    "le.classes_"
   ]
  },
  {
   "cell_type": "code",
   "execution_count": 10,
   "id": "4245e798",
   "metadata": {},
   "outputs": [
    {
     "data": {
      "text/plain": [
       "array([0, 1])"
      ]
     },
     "execution_count": 10,
     "metadata": {},
     "output_type": "execute_result"
    }
   ],
   "source": [
    "# Checking for the encoded version of the tag column\n",
    "df['Winner'].unique()"
   ]
  },
  {
   "cell_type": "markdown",
   "id": "ae43d074",
   "metadata": {},
   "source": [
    "## 4. Perform Train Test Split and Standardization\n"
   ]
  },
  {
   "cell_type": "code",
   "execution_count": 11,
   "id": "d79d293f",
   "metadata": {},
   "outputs": [],
   "source": [
    "# Splitting up the feature vs label columns\n",
    "features_col = [i for i in df.columns if i != \"Winner\"]\n",
    "\n",
    "# Changing the data set into numpy array for preparation\n",
    "X = np.array(df[features_col])\n",
    "y = np.array(df['Winner'])"
   ]
  },
  {
   "cell_type": "code",
   "execution_count": 12,
   "id": "e3d2832a",
   "metadata": {},
   "outputs": [],
   "source": [
    "# Perform a simple train test split\n",
    "X_train, X_test, y_train, y_test = train_test_split(\n",
    "                                                X, \n",
    "                                                y, \n",
    "                                                random_state=1,\n",
    "                                                train_size=0.75,\n",
    "                                                shuffle=True,\n",
    "                                                stratify=y # choosing stratigy due to imbalance data\n",
    "                                            )"
   ]
  },
  {
   "cell_type": "code",
   "execution_count": 13,
   "id": "57f51997",
   "metadata": {},
   "outputs": [],
   "source": [
    "# Setting up the scaler to standardize the data\n",
    "scaler = StandardScaler()\n",
    "\n",
    "X_train_scaled = scaler.fit_transform(X_train)\n",
    "X_test_scaled = scaler.transform(X_test)"
   ]
  },
  {
   "cell_type": "markdown",
   "id": "0e929473",
   "metadata": {},
   "source": [
    "## 5. Model Selection and First Attempt\n"
   ]
  },
  {
   "cell_type": "code",
   "execution_count": 14,
   "id": "e619a6be",
   "metadata": {},
   "outputs": [],
   "source": [
    "def run_SVC_model(X_train_data, y_train_data, X_test_data, y_test_data):\n",
    "    \"\"\"\n",
    "    General bundling of all the common functionalities\n",
    "    when we run the function\n",
    "    \"\"\"\n",
    "    model = SVC()\n",
    "    model.fit(X_train_data, y_train_data)\n",
    "    \n",
    "    y_pred = model.predict(X_test_data)\n",
    "    \n",
    "    print(classification_report_imbalanced(y_test_data, y_pred))\n",
    "\n",
    "    print('-'*20)\n",
    "    print(f\"Accuracy: {accuracy_score(y_test_data, y_pred)}\")\n",
    "    \n",
    "    return model"
   ]
  },
  {
   "cell_type": "code",
   "execution_count": 15,
   "id": "b74ff060",
   "metadata": {},
   "outputs": [
    {
     "name": "stdout",
     "output_type": "stream",
     "text": [
      "                   pre       rec       spe        f1       geo       iba       sup\n",
      "\n",
      "          0       0.79      0.29      0.98      0.42      0.53      0.26        66\n",
      "          1       0.83      0.98      0.29      0.90      0.53      0.30       238\n",
      "\n",
      "avg / total       0.82      0.83      0.44      0.80      0.53      0.29       304\n",
      "\n",
      "--------------------\n",
      "Accuracy: 0.8289473684210527\n"
     ]
    }
   ],
   "source": [
    "# First attempt with simple train test split\n",
    "first_model = run_SVC_model(\n",
    "            X_train_data = X_train_scaled,\n",
    "            y_train_data = y_train,\n",
    "            X_test_data = X_test_scaled,\n",
    "            y_test_data = y_test\n",
    ")"
   ]
  },
  {
   "cell_type": "markdown",
   "id": "f6132701",
   "metadata": {},
   "source": [
    "As expected, the result is overtrained on Mitt Romney scenarios."
   ]
  },
  {
   "cell_type": "markdown",
   "id": "00b92778",
   "metadata": {},
   "source": [
    "## 6. Explore resampling techniques\n",
    "\n",
    "#### Exploring\n",
    "Per `sklearn` library guidance, setting up for Cross Validation (CV) to explore resampling techniques."
   ]
  },
  {
   "cell_type": "code",
   "execution_count": 16,
   "id": "0e99c97b",
   "metadata": {},
   "outputs": [],
   "source": [
    "# Importing the required libraries for CV\n",
    "from imblearn import FunctionSampler\n",
    "from imblearn.over_sampling import ADASYN, RandomOverSampler, SMOTE\n",
    "from imblearn.pipeline import make_pipeline\n",
    "from sklearn.neighbors import KNeighborsClassifier\n",
    "\n",
    "# choosing SVC as our model for experiments\n",
    "classifier = SVC(kernel='rbf', probability=True)\n",
    "\n",
    "# setting up the pipelines\n",
    "pipeline = [\n",
    "    make_pipeline(FunctionSampler(), classifier),\n",
    "    make_pipeline(RandomOverSampler(random_state=42), classifier),\n",
    "    make_pipeline(ADASYN(random_state=42), classifier),\n",
    "    make_pipeline(SMOTE(random_state=42), classifier),\n",
    "]"
   ]
  },
  {
   "cell_type": "code",
   "execution_count": 17,
   "id": "fc6e900c",
   "metadata": {},
   "outputs": [],
   "source": [
    "# Using StratiiedKFolder\n",
    "from sklearn.model_selection import StratifiedKFold\n",
    "\n",
    "cv = StratifiedKFold(n_splits=3)"
   ]
  },
  {
   "cell_type": "code",
   "execution_count": 18,
   "id": "685690cd",
   "metadata": {},
   "outputs": [],
   "source": [
    "# Running the model to\n",
    "from sklearn.metrics import RocCurveDisplay, roc_curve, auc\n",
    "\n",
    "pos_label = 0\n",
    "disp = []\n",
    "\n",
    "for model in pipeline:\n",
    "    # compute the mean fpr/tpr to get the mean ROC curve\n",
    "    mean_tpr, mean_fpr = 0.0, np.linspace(0, 1, 100)\n",
    "    for train, test in cv.split(X, y):\n",
    "        model.fit(X[train], y[train])\n",
    "        y_proba = model.predict_proba(X[test])\n",
    "\n",
    "        pos_label_idx = np.flatnonzero(model.classes_ == pos_label)[0]\n",
    "        fpr, tpr, thresholds = roc_curve(\n",
    "            y[test], y_proba[:, pos_label_idx], pos_label=pos_label\n",
    "        )\n",
    "        mean_tpr += np.interp(mean_fpr, fpr, tpr)\n",
    "        mean_tpr[0] = 0.0\n",
    "\n",
    "    mean_tpr /= cv.get_n_splits(X, y)\n",
    "    mean_tpr[-1] = 1.0\n",
    "    mean_auc = auc(mean_fpr, mean_tpr)\n",
    "\n",
    "    # Create a display that we will reuse to make the aggregated plots for\n",
    "    # all methods\n",
    "    disp.append(\n",
    "        RocCurveDisplay(\n",
    "            fpr=mean_fpr,\n",
    "            tpr=mean_tpr,\n",
    "            roc_auc=mean_auc,\n",
    "            estimator_name=f\"{model[0].__class__.__name__}\",\n",
    "        )\n",
    "    )"
   ]
  },
  {
   "cell_type": "code",
   "execution_count": 19,
   "id": "22405f59",
   "metadata": {},
   "outputs": [
    {
     "data": {
      "image/png": "[encoded data removed]",
      "text/plain": [
       "<Figure size 648x648 with 1 Axes>"
      ]
     },
     "metadata": {
      "needs_background": "light"
     },
     "output_type": "display_data"
    }
   ],
   "source": [
    "fig, ax = plt.subplots(figsize=(9, 9))\n",
    "for d in disp:\n",
    "    d.plot(ax=ax, linestyle=\"--\")\n",
    "ax.plot([0, 1], [0, 1], linestyle=\"--\", color=\"k\")\n",
    "ax.axis(\"square\")\n",
    "fig.suptitle(\"Comparison of over-sampling methods \\nwith a 3NN classifier\")\n",
    "ax.set_xlim([0, 1])\n",
    "ax.set_ylim([0, 1])\n",
    "sns.despine(offset=10, ax=ax)\n",
    "plt.tight_layout()\n",
    "plt.show()"
   ]
  },
  {
   "cell_type": "markdown",
   "id": "9069309a",
   "metadata": {},
   "source": [
    "Based on the above result, most techniques have similar result besides SMOTE; we will use use RandomOverSampler for simplicity."
   ]
  },
  {
   "cell_type": "markdown",
   "id": "0cacd895",
   "metadata": {},
   "source": [
    "#### Application of `RandomOverSampler` "
   ]
  },
  {
   "cell_type": "code",
   "execution_count": 20,
   "id": "c9fff55f",
   "metadata": {},
   "outputs": [],
   "source": [
    "# Setting up the sampler\n",
    "ros = RandomOverSampler(random_state=1)\n",
    "\n",
    "X_train_scaled_resampled, y_train_resampled = ros.fit_resample(X_train_scaled, y_train)"
   ]
  },
  {
   "cell_type": "code",
   "execution_count": 21,
   "id": "f89aebd4",
   "metadata": {},
   "outputs": [
    {
     "name": "stdout",
     "output_type": "stream",
     "text": [
      "                   pre       rec       spe        f1       geo       iba       sup\n",
      "\n",
      "          0       0.62      0.62      0.89      0.62      0.75      0.54        66\n",
      "          1       0.89      0.89      0.62      0.89      0.75      0.57       238\n",
      "\n",
      "avg / total       0.84      0.84      0.68      0.84      0.75      0.56       304\n",
      "\n",
      "--------------------\n",
      "Accuracy: 0.8355263157894737\n"
     ]
    }
   ],
   "source": [
    "# Second Attempt: added oversampling technique to \n",
    "model_with_resampling = run_SVC_model(\n",
    "                X_train_data = X_train_scaled_resampled,\n",
    "                y_train_data = y_train_resampled,\n",
    "                X_test_data = X_test_scaled,\n",
    "                y_test_data = y_test\n",
    ")"
   ]
  },
  {
   "cell_type": "markdown",
   "id": "3c3d28ec",
   "metadata": {},
   "source": [
    "Although the f1 score for class `1` has decreased by 0.01, f1 score ofr class `0` has increased from 0.42 to 0.62."
   ]
  },
  {
   "cell_type": "markdown",
   "id": "734abba9",
   "metadata": {},
   "source": [
    "## 7. Adding PCA"
   ]
  },
  {
   "cell_type": "code",
   "execution_count": 22,
   "id": "75c04b47",
   "metadata": {},
   "outputs": [
    {
     "data": {
      "text/plain": [
       "<AxesSubplot:>"
      ]
     },
     "execution_count": 22,
     "metadata": {},
     "output_type": "execute_result"
    },
    {
     "data": {
      "image/png": "[encoded data removed]",
      "text/plain": [
       "<Figure size 432x288 with 2 Axes>"
      ]
     },
     "metadata": {
      "needs_background": "light"
     },
     "output_type": "display_data"
    }
   ],
   "source": [
    "sns.heatmap(df[features_col].corr())"
   ]
  },
  {
   "cell_type": "markdown",
   "id": "61b9d794",
   "metadata": {},
   "source": [
    "#### Notes:\n",
    "- `Total Householdes` is highly correlated to `Total Population`\n",
    "- `House hold growth` is highly correlated with `Population growth`\n",
    "- `% BachelorsDeg or higher` is moderately correlated with `Per capital income`\n",
    "- `Median home value` is moderately correlated with `% BachelorsDeg or higher` and `Per capita income`\n",
    "\n",
    "Thus, we will utilize PCA to reduce 4-5 features to test if we can further improve the model."
   ]
  },
  {
   "cell_type": "code",
   "execution_count": 23,
   "id": "ab4a57af",
   "metadata": {},
   "outputs": [],
   "source": [
    "from sklearn.decomposition import PCA\n",
    "\n",
    "# Reducing the component from 15 to 10\n",
    "pca = PCA(n_components=10, svd_solver='auto')\n",
    "X_train_pca = pca.fit_transform(X_train_scaled)\n",
    "X_test_pca = pca.transform(X_test_scaled)"
   ]
  },
  {
   "cell_type": "code",
   "execution_count": 24,
   "id": "e821ad27",
   "metadata": {},
   "outputs": [],
   "source": [
    "X_resampled_pca, y_resampled_pca = ros.fit_resample(X_train_pca, y_train)"
   ]
  },
  {
   "cell_type": "code",
   "execution_count": 25,
   "id": "fa0793b5",
   "metadata": {},
   "outputs": [
    {
     "name": "stdout",
     "output_type": "stream",
     "text": [
      "                   pre       rec       spe        f1       geo       iba       sup\n",
      "\n",
      "          0       0.62      0.64      0.89      0.63      0.75      0.55        66\n",
      "          1       0.90      0.89      0.64      0.89      0.75      0.58       238\n",
      "\n",
      "avg / total       0.84      0.84      0.69      0.84      0.75      0.58       304\n",
      "\n",
      "--------------------\n",
      "Accuracy: 0.8355263157894737\n"
     ]
    }
   ],
   "source": [
    "# Third Attempt: added PCA to reudce contributors\n",
    "model_with_Resampling_PCA = run_SVC_model(\n",
    "                    X_train_data = X_resampled_pca,\n",
    "                    y_train_data = y_resampled_pca,\n",
    "                    X_test_data = X_test_pca,\n",
    "                    y_test_data = y_test\n",
    ")"
   ]
  },
  {
   "cell_type": "markdown",
   "id": "02c428bd",
   "metadata": {},
   "source": [
    "The f1 score of class `0` has further improved by 0.1."
   ]
  },
  {
   "cell_type": "markdown",
   "id": "de8569e3",
   "metadata": {},
   "source": [
    "## 8. Exporting the model\n",
    "\n",
    "Serializing the `model_with_Resampling_PCA` for future usages since this is the best model in the 3 hours assignment time."
   ]
  },
  {
   "cell_type": "code",
   "execution_count": 26,
   "id": "4b6a4972",
   "metadata": {},
   "outputs": [],
   "source": [
    "# Import serializing library\n",
    "import pickle"
   ]
  },
  {
   "cell_type": "code",
   "execution_count": 27,
   "id": "9796f317",
   "metadata": {},
   "outputs": [],
   "source": [
    "# Exporting the model\n",
    "filename = r\"03_model_binary.pickle\"\n",
    "\n",
    "pickle.dump(model_with_Resampling_PCA, open(filename, 'wb'))"
   ]
  }
 ],
 "metadata": {
  "kernelspec": {
   "display_name": "Python 3 (ipykernel)",
   "language": "python",
   "name": "python3"
  },
  "language_info": {
   "codemirror_mode": {
    "name": "ipython",
    "version": 3
   },
   "file_extension": ".py",
   "mimetype": "text/x-python",
   "name": "python",
   "nbconvert_exporter": "python",
   "pygments_lexer": "ipython3",
   "version": "3.9.7"
  }
 },
 "nbformat": 4,
 "nbformat_minor": 5
}
