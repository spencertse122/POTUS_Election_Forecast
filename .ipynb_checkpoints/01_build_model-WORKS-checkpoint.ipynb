{
 "cells": [
  {
   "cell_type": "code",
   "execution_count": null,
   "id": "20bd99cd",
   "metadata": {},
   "outputs": [],
   "source": []
  },
  {
   "cell_type": "code",
   "execution_count": null,
   "id": "9fedab09",
   "metadata": {},
   "outputs": [],
   "source": []
  },
  {
   "cell_type": "code",
   "execution_count": null,
   "id": "6a1f1057",
   "metadata": {},
   "outputs": [],
   "source": []
  },
  {
   "cell_type": "markdown",
   "id": "cd818d63",
   "metadata": {},
   "source": [
    "# 01 - Build Model\n",
    "---\n",
    "\n",
    "### Description:\n",
    "build_model script: should read train_potus_by_county.csv and then build, train and tune your best predictive model. The script should save your best model to the filesystem and it should also log data about the expected performance of the model\n",
    "\n",
    "### Sections:\n",
    "1. Setups & Reading in the Data\n",
    "2. Exploration\n",
    "3. Binary Encoding the Winner Column\n",
    "4. Perform Train Test Split\n",
    "5. Model Selection and First Attempt\n",
    "6. Explore resampling techniques\n",
    "7. "
   ]
  },
  {
   "cell_type": "markdown",
   "id": "96a462a7",
   "metadata": {},
   "source": [
    "## Setups\n",
    "\n",
    "Importing libraries and stating data locations "
   ]
  },
  {
   "cell_type": "code",
   "execution_count": 1,
   "id": "c42c56d1",
   "metadata": {},
   "outputs": [],
   "source": [
    "# importing the libraries tsert\n",
    "import pandas as pd\n",
    "import numpy as np\n",
    "from sklearn import preprocessing\n",
    "from sklearn.svm import SVC\n",
    "from imblearn.metrics import classification_report_imbalanced\n",
    "import matplotlib.pyplot as plt\n",
    "import seaborn as sns\n",
    "\n",
    "from sklearn.metrics import accuracy_score\n",
    "\n",
    "from collections import Counter"
   ]
  },
  {
   "cell_type": "code",
   "execution_count": 2,
   "id": "efeb8f92",
   "metadata": {},
   "outputs": [],
   "source": [
    "training_data = r\"data/train_potus_by_county.csv\"\n",
    "testing_data = r\"data/test_potus_by_county.csv\""
   ]
  },
  {
   "cell_type": "markdown",
   "id": "b2cbc657",
   "metadata": {},
   "source": [
    "## Reading in the data"
   ]
  },
  {
   "cell_type": "code",
   "execution_count": 3,
   "id": "47b005ca",
   "metadata": {},
   "outputs": [],
   "source": [
    "df = pd.read_csv(training_data)"
   ]
  },
  {
   "cell_type": "code",
   "execution_count": 4,
   "id": "dae518c0",
   "metadata": {},
   "outputs": [
    {
     "data": {
      "text/html": [
       "<div>\n",
       "<style scoped>\n",
       "    .dataframe tbody tr th:only-of-type {\n",
       "        vertical-align: middle;\n",
       "    }\n",
       "\n",
       "    .dataframe tbody tr th {\n",
       "        vertical-align: top;\n",
       "    }\n",
       "\n",
       "    .dataframe thead th {\n",
       "        text-align: right;\n",
       "    }\n",
       "</style>\n",
       "<table border=\"1\" class=\"dataframe\">\n",
       "  <thead>\n",
       "    <tr style=\"text-align: right;\">\n",
       "      <th></th>\n",
       "      <th>Total population</th>\n",
       "      <th>Median age</th>\n",
       "      <th>% BachelorsDeg or higher</th>\n",
       "      <th>Unemployment rate</th>\n",
       "      <th>Per capita income</th>\n",
       "      <th>Total households</th>\n",
       "      <th>Average household size</th>\n",
       "      <th>% Owner occupied housing</th>\n",
       "      <th>% Renter occupied housing</th>\n",
       "      <th>% Vacant housing</th>\n",
       "      <th>Median home value</th>\n",
       "      <th>Population growth</th>\n",
       "      <th>House hold growth</th>\n",
       "      <th>Per capita income growth</th>\n",
       "      <th>Winner</th>\n",
       "    </tr>\n",
       "  </thead>\n",
       "  <tbody>\n",
       "    <tr>\n",
       "      <th>0</th>\n",
       "      <td>9278</td>\n",
       "      <td>37.9</td>\n",
       "      <td>12.6</td>\n",
       "      <td>21.3</td>\n",
       "      <td>13992.0</td>\n",
       "      <td>3802</td>\n",
       "      <td>2.42</td>\n",
       "      <td>51.9</td>\n",
       "      <td>16.6</td>\n",
       "      <td>31.6</td>\n",
       "      <td>63959.0</td>\n",
       "      <td>-0.69</td>\n",
       "      <td>-0.49</td>\n",
       "      <td>0.71</td>\n",
       "      <td>Barack Obama</td>\n",
       "    </tr>\n",
       "    <tr>\n",
       "      <th>1</th>\n",
       "      <td>18594</td>\n",
       "      <td>36.3</td>\n",
       "      <td>9.7</td>\n",
       "      <td>14.3</td>\n",
       "      <td>14622.0</td>\n",
       "      <td>6764</td>\n",
       "      <td>2.55</td>\n",
       "      <td>63.7</td>\n",
       "      <td>16.2</td>\n",
       "      <td>20.1</td>\n",
       "      <td>74330.0</td>\n",
       "      <td>-0.13</td>\n",
       "      <td>0.03</td>\n",
       "      <td>0.85</td>\n",
       "      <td>Barack Obama</td>\n",
       "    </tr>\n",
       "    <tr>\n",
       "      <th>2</th>\n",
       "      <td>662628</td>\n",
       "      <td>37.9</td>\n",
       "      <td>27.9</td>\n",
       "      <td>12.1</td>\n",
       "      <td>23909.0</td>\n",
       "      <td>267862</td>\n",
       "      <td>2.41</td>\n",
       "      <td>57.0</td>\n",
       "      <td>28.8</td>\n",
       "      <td>14.2</td>\n",
       "      <td>112687.0</td>\n",
       "      <td>-0.09</td>\n",
       "      <td>0.00</td>\n",
       "      <td>0.55</td>\n",
       "      <td>Barack Obama</td>\n",
       "    </tr>\n",
       "    <tr>\n",
       "      <th>3</th>\n",
       "      <td>21292</td>\n",
       "      <td>38.9</td>\n",
       "      <td>14.1</td>\n",
       "      <td>15.7</td>\n",
       "      <td>16829.0</td>\n",
       "      <td>8547</td>\n",
       "      <td>2.47</td>\n",
       "      <td>63.5</td>\n",
       "      <td>17.1</td>\n",
       "      <td>19.4</td>\n",
       "      <td>73643.0</td>\n",
       "      <td>-0.59</td>\n",
       "      <td>-0.43</td>\n",
       "      <td>0.57</td>\n",
       "      <td>Barack Obama</td>\n",
       "    </tr>\n",
       "    <tr>\n",
       "      <th>4</th>\n",
       "      <td>13252</td>\n",
       "      <td>34.5</td>\n",
       "      <td>15.0</td>\n",
       "      <td>15.8</td>\n",
       "      <td>13012.0</td>\n",
       "      <td>5222</td>\n",
       "      <td>2.47</td>\n",
       "      <td>53.7</td>\n",
       "      <td>20.7</td>\n",
       "      <td>25.6</td>\n",
       "      <td>56642.0</td>\n",
       "      <td>-1.16</td>\n",
       "      <td>-1.03</td>\n",
       "      <td>0.69</td>\n",
       "      <td>Barack Obama</td>\n",
       "    </tr>\n",
       "  </tbody>\n",
       "</table>\n",
       "</div>"
      ],
      "text/plain": [
       "   Total population  Median age  % BachelorsDeg or higher  Unemployment rate  \\\n",
       "0              9278        37.9                      12.6               21.3   \n",
       "1             18594        36.3                       9.7               14.3   \n",
       "2            662628        37.9                      27.9               12.1   \n",
       "3             21292        38.9                      14.1               15.7   \n",
       "4             13252        34.5                      15.0               15.8   \n",
       "\n",
       "   Per capita income  Total households  Average household size  \\\n",
       "0            13992.0              3802                    2.42   \n",
       "1            14622.0              6764                    2.55   \n",
       "2            23909.0            267862                    2.41   \n",
       "3            16829.0              8547                    2.47   \n",
       "4            13012.0              5222                    2.47   \n",
       "\n",
       "   % Owner occupied housing  % Renter occupied housing  % Vacant housing  \\\n",
       "0                      51.9                       16.6              31.6   \n",
       "1                      63.7                       16.2              20.1   \n",
       "2                      57.0                       28.8              14.2   \n",
       "3                      63.5                       17.1              19.4   \n",
       "4                      53.7                       20.7              25.6   \n",
       "\n",
       "   Median home value  Population growth  House hold growth  \\\n",
       "0            63959.0              -0.69              -0.49   \n",
       "1            74330.0              -0.13               0.03   \n",
       "2           112687.0              -0.09               0.00   \n",
       "3            73643.0              -0.59              -0.43   \n",
       "4            56642.0              -1.16              -1.03   \n",
       "\n",
       "   Per capita income growth        Winner  \n",
       "0                      0.71  Barack Obama  \n",
       "1                      0.85  Barack Obama  \n",
       "2                      0.55  Barack Obama  \n",
       "3                      0.57  Barack Obama  \n",
       "4                      0.69  Barack Obama  "
      ]
     },
     "execution_count": 4,
     "metadata": {},
     "output_type": "execute_result"
    }
   ],
   "source": [
    "# Checking how the data looks\n",
    "df.head(5)"
   ]
  },
  {
   "cell_type": "code",
   "execution_count": 5,
   "id": "1e8c9913",
   "metadata": {},
   "outputs": [
    {
     "name": "stdout",
     "output_type": "stream",
     "text": [
      "<class 'pandas.core.frame.DataFrame'>\n",
      "RangeIndex: 1213 entries, 0 to 1212\n",
      "Data columns (total 15 columns):\n",
      " #   Column                     Non-Null Count  Dtype  \n",
      "---  ------                     --------------  -----  \n",
      " 0   Total population           1213 non-null   int64  \n",
      " 1   Median age                 1213 non-null   float64\n",
      " 2   % BachelorsDeg or higher   1213 non-null   float64\n",
      " 3   Unemployment rate          1213 non-null   float64\n",
      " 4   Per capita income          1213 non-null   float64\n",
      " 5   Total households           1213 non-null   int64  \n",
      " 6   Average household size     1213 non-null   float64\n",
      " 7   % Owner occupied housing   1213 non-null   float64\n",
      " 8   % Renter occupied housing  1213 non-null   float64\n",
      " 9   % Vacant housing           1213 non-null   float64\n",
      " 10  Median home value          1213 non-null   float64\n",
      " 11  Population growth          1213 non-null   float64\n",
      " 12  House hold growth          1213 non-null   float64\n",
      " 13  Per capita income growth   1213 non-null   float64\n",
      " 14  Winner                     1213 non-null   object \n",
      "dtypes: float64(12), int64(2), object(1)\n",
      "memory usage: 142.3+ KB\n"
     ]
    }
   ],
   "source": [
    "# Checking for null values\n",
    "df.info()"
   ]
  },
  {
   "cell_type": "code",
   "execution_count": 6,
   "id": "bf3db5a1",
   "metadata": {},
   "outputs": [
    {
     "data": {
      "text/html": [
       "<div>\n",
       "<style scoped>\n",
       "    .dataframe tbody tr th:only-of-type {\n",
       "        vertical-align: middle;\n",
       "    }\n",
       "\n",
       "    .dataframe tbody tr th {\n",
       "        vertical-align: top;\n",
       "    }\n",
       "\n",
       "    .dataframe thead th {\n",
       "        text-align: right;\n",
       "    }\n",
       "</style>\n",
       "<table border=\"1\" class=\"dataframe\">\n",
       "  <thead>\n",
       "    <tr style=\"text-align: right;\">\n",
       "      <th></th>\n",
       "      <th>Total population</th>\n",
       "      <th>Median age</th>\n",
       "      <th>% BachelorsDeg or higher</th>\n",
       "      <th>Unemployment rate</th>\n",
       "      <th>Per capita income</th>\n",
       "      <th>Total households</th>\n",
       "      <th>Average household size</th>\n",
       "      <th>% Owner occupied housing</th>\n",
       "      <th>% Renter occupied housing</th>\n",
       "      <th>% Vacant housing</th>\n",
       "      <th>Median home value</th>\n",
       "      <th>Population growth</th>\n",
       "      <th>House hold growth</th>\n",
       "      <th>Per capita income growth</th>\n",
       "    </tr>\n",
       "  </thead>\n",
       "  <tbody>\n",
       "    <tr>\n",
       "      <th>count</th>\n",
       "      <td>1.213000e+03</td>\n",
       "      <td>1213.000000</td>\n",
       "      <td>1213.000000</td>\n",
       "      <td>1213.000000</td>\n",
       "      <td>1213.000000</td>\n",
       "      <td>1.213000e+03</td>\n",
       "      <td>1213.000000</td>\n",
       "      <td>1213.000000</td>\n",
       "      <td>1213.000000</td>\n",
       "      <td>1213.000000</td>\n",
       "      <td>1213.000000</td>\n",
       "      <td>1213.000000</td>\n",
       "      <td>1213.000000</td>\n",
       "      <td>1213.000000</td>\n",
       "    </tr>\n",
       "    <tr>\n",
       "      <th>mean</th>\n",
       "      <td>1.019248e+05</td>\n",
       "      <td>39.954493</td>\n",
       "      <td>19.186480</td>\n",
       "      <td>9.837593</td>\n",
       "      <td>21118.305853</td>\n",
       "      <td>3.805129e+04</td>\n",
       "      <td>2.493817</td>\n",
       "      <td>60.339324</td>\n",
       "      <td>21.881946</td>\n",
       "      <td>17.779225</td>\n",
       "      <td>118892.893652</td>\n",
       "      <td>0.255754</td>\n",
       "      <td>0.340956</td>\n",
       "      <td>2.030660</td>\n",
       "    </tr>\n",
       "    <tr>\n",
       "      <th>std</th>\n",
       "      <td>3.659055e+05</td>\n",
       "      <td>4.652347</td>\n",
       "      <td>8.405849</td>\n",
       "      <td>3.865796</td>\n",
       "      <td>5046.038916</td>\n",
       "      <td>1.246130e+05</td>\n",
       "      <td>0.203625</td>\n",
       "      <td>8.929037</td>\n",
       "      <td>7.398402</td>\n",
       "      <td>10.125619</td>\n",
       "      <td>71060.359705</td>\n",
       "      <td>0.933166</td>\n",
       "      <td>0.939244</td>\n",
       "      <td>0.742566</td>\n",
       "    </tr>\n",
       "    <tr>\n",
       "      <th>min</th>\n",
       "      <td>3.240000e+02</td>\n",
       "      <td>24.500000</td>\n",
       "      <td>6.400000</td>\n",
       "      <td>1.000000</td>\n",
       "      <td>7908.000000</td>\n",
       "      <td>9.800000e+01</td>\n",
       "      <td>1.840000</td>\n",
       "      <td>15.000000</td>\n",
       "      <td>4.600000</td>\n",
       "      <td>2.600000</td>\n",
       "      <td>29622.000000</td>\n",
       "      <td>-2.090000</td>\n",
       "      <td>-2.120000</td>\n",
       "      <td>0.050000</td>\n",
       "    </tr>\n",
       "    <tr>\n",
       "      <th>25%</th>\n",
       "      <td>1.162900e+04</td>\n",
       "      <td>37.300000</td>\n",
       "      <td>13.400000</td>\n",
       "      <td>7.400000</td>\n",
       "      <td>17989.000000</td>\n",
       "      <td>4.555000e+03</td>\n",
       "      <td>2.360000</td>\n",
       "      <td>55.800000</td>\n",
       "      <td>17.300000</td>\n",
       "      <td>10.800000</td>\n",
       "      <td>78313.000000</td>\n",
       "      <td>-0.360000</td>\n",
       "      <td>-0.250000</td>\n",
       "      <td>1.680000</td>\n",
       "    </tr>\n",
       "    <tr>\n",
       "      <th>50%</th>\n",
       "      <td>2.591600e+04</td>\n",
       "      <td>40.000000</td>\n",
       "      <td>17.100000</td>\n",
       "      <td>9.600000</td>\n",
       "      <td>20265.000000</td>\n",
       "      <td>1.000800e+04</td>\n",
       "      <td>2.460000</td>\n",
       "      <td>61.800000</td>\n",
       "      <td>20.600000</td>\n",
       "      <td>15.000000</td>\n",
       "      <td>100381.000000</td>\n",
       "      <td>0.070000</td>\n",
       "      <td>0.160000</td>\n",
       "      <td>2.130000</td>\n",
       "    </tr>\n",
       "    <tr>\n",
       "      <th>75%</th>\n",
       "      <td>6.743000e+04</td>\n",
       "      <td>42.800000</td>\n",
       "      <td>22.200000</td>\n",
       "      <td>12.100000</td>\n",
       "      <td>23217.000000</td>\n",
       "      <td>2.583000e+04</td>\n",
       "      <td>2.580000</td>\n",
       "      <td>66.200000</td>\n",
       "      <td>25.000000</td>\n",
       "      <td>21.900000</td>\n",
       "      <td>135466.000000</td>\n",
       "      <td>0.720000</td>\n",
       "      <td>0.780000</td>\n",
       "      <td>2.570000</td>\n",
       "    </tr>\n",
       "    <tr>\n",
       "      <th>max</th>\n",
       "      <td>1.024050e+07</td>\n",
       "      <td>56.600000</td>\n",
       "      <td>61.600000</td>\n",
       "      <td>26.500000</td>\n",
       "      <td>51818.000000</td>\n",
       "      <td>3.292577e+06</td>\n",
       "      <td>3.710000</td>\n",
       "      <td>81.900000</td>\n",
       "      <td>74.200000</td>\n",
       "      <td>65.900000</td>\n",
       "      <td>815417.000000</td>\n",
       "      <td>6.070000</td>\n",
       "      <td>6.420000</td>\n",
       "      <td>4.180000</td>\n",
       "    </tr>\n",
       "  </tbody>\n",
       "</table>\n",
       "</div>"
      ],
      "text/plain": [
       "       Total population   Median age  % BachelorsDeg or higher  \\\n",
       "count      1.213000e+03  1213.000000               1213.000000   \n",
       "mean       1.019248e+05    39.954493                 19.186480   \n",
       "std        3.659055e+05     4.652347                  8.405849   \n",
       "min        3.240000e+02    24.500000                  6.400000   \n",
       "25%        1.162900e+04    37.300000                 13.400000   \n",
       "50%        2.591600e+04    40.000000                 17.100000   \n",
       "75%        6.743000e+04    42.800000                 22.200000   \n",
       "max        1.024050e+07    56.600000                 61.600000   \n",
       "\n",
       "       Unemployment rate  Per capita income  Total households  \\\n",
       "count        1213.000000        1213.000000      1.213000e+03   \n",
       "mean            9.837593       21118.305853      3.805129e+04   \n",
       "std             3.865796        5046.038916      1.246130e+05   \n",
       "min             1.000000        7908.000000      9.800000e+01   \n",
       "25%             7.400000       17989.000000      4.555000e+03   \n",
       "50%             9.600000       20265.000000      1.000800e+04   \n",
       "75%            12.100000       23217.000000      2.583000e+04   \n",
       "max            26.500000       51818.000000      3.292577e+06   \n",
       "\n",
       "       Average household size  % Owner occupied housing  \\\n",
       "count             1213.000000               1213.000000   \n",
       "mean                 2.493817                 60.339324   \n",
       "std                  0.203625                  8.929037   \n",
       "min                  1.840000                 15.000000   \n",
       "25%                  2.360000                 55.800000   \n",
       "50%                  2.460000                 61.800000   \n",
       "75%                  2.580000                 66.200000   \n",
       "max                  3.710000                 81.900000   \n",
       "\n",
       "       % Renter occupied housing  % Vacant housing  Median home value  \\\n",
       "count                1213.000000       1213.000000        1213.000000   \n",
       "mean                   21.881946         17.779225      118892.893652   \n",
       "std                     7.398402         10.125619       71060.359705   \n",
       "min                     4.600000          2.600000       29622.000000   \n",
       "25%                    17.300000         10.800000       78313.000000   \n",
       "50%                    20.600000         15.000000      100381.000000   \n",
       "75%                    25.000000         21.900000      135466.000000   \n",
       "max                    74.200000         65.900000      815417.000000   \n",
       "\n",
       "       Population growth  House hold growth  Per capita income growth  \n",
       "count        1213.000000        1213.000000               1213.000000  \n",
       "mean            0.255754           0.340956                  2.030660  \n",
       "std             0.933166           0.939244                  0.742566  \n",
       "min            -2.090000          -2.120000                  0.050000  \n",
       "25%            -0.360000          -0.250000                  1.680000  \n",
       "50%             0.070000           0.160000                  2.130000  \n",
       "75%             0.720000           0.780000                  2.570000  \n",
       "max             6.070000           6.420000                  4.180000  "
      ]
     },
     "execution_count": 6,
     "metadata": {},
     "output_type": "execute_result"
    }
   ],
   "source": [
    "# Briefly checking the value distribution\n",
    "df.describe()"
   ]
  },
  {
   "cell_type": "code",
   "execution_count": 7,
   "id": "7400a33e",
   "metadata": {},
   "outputs": [
    {
     "data": {
      "text/plain": [
       "Winner\n",
       "Barack Obama    264\n",
       "Mitt Romney     949\n",
       "dtype: int64"
      ]
     },
     "execution_count": 7,
     "metadata": {},
     "output_type": "execute_result"
    }
   ],
   "source": [
    "# checking if the data is balanced\n",
    "df.groupby(\"Winner\").size()"
   ]
  },
  {
   "cell_type": "markdown",
   "id": "97baacc8",
   "metadata": {},
   "source": [
    "## Binary Encode the Winner column"
   ]
  },
  {
   "cell_type": "code",
   "execution_count": 8,
   "id": "18c7fe6b",
   "metadata": {},
   "outputs": [
    {
     "data": {
      "text/plain": [
       "LabelEncoder()"
      ]
     },
     "execution_count": 8,
     "metadata": {},
     "output_type": "execute_result"
    }
   ],
   "source": [
    "# Binary encode the the winner column\n",
    "le = preprocessing.LabelEncoder()\n",
    "le.fit(df['Winner'])"
   ]
  },
  {
   "cell_type": "code",
   "execution_count": 9,
   "id": "4d176378",
   "metadata": {},
   "outputs": [
    {
     "data": {
      "text/plain": [
       "array(['Barack Obama', 'Mitt Romney'], dtype=object)"
      ]
     },
     "execution_count": 9,
     "metadata": {},
     "output_type": "execute_result"
    }
   ],
   "source": [
    "df['Winner'] = le.transform(df['Winner'].copy())\n",
    "le.classes_"
   ]
  },
  {
   "cell_type": "code",
   "execution_count": 10,
   "id": "86297c46",
   "metadata": {},
   "outputs": [
    {
     "data": {
      "text/plain": [
       "array([0, 1])"
      ]
     },
     "execution_count": 10,
     "metadata": {},
     "output_type": "execute_result"
    }
   ],
   "source": [
    "# Checking for the encoded version of the tag column\n",
    "df['Winner'].unique()"
   ]
  },
  {
   "cell_type": "markdown",
   "id": "c96beeae",
   "metadata": {},
   "source": [
    "## Performing a train test split"
   ]
  },
  {
   "cell_type": "code",
   "execution_count": 11,
   "id": "50550af7",
   "metadata": {},
   "outputs": [],
   "source": [
    "# Importing the preparation libraries\n",
    "from sklearn.model_selection import StratifiedShuffleSplit\n",
    "from sklearn.model_selection import train_test_split"
   ]
  },
  {
   "cell_type": "code",
   "execution_count": 12,
   "id": "d8dd6137",
   "metadata": {},
   "outputs": [],
   "source": [
    "# Splitting up the feature vs label columns\n",
    "features_col = [i for i in df.columns if i != \"Winner\"]\n",
    "\n",
    "# Changing the data set into numpy array for preparation\n",
    "X = np.array(df[features_col])\n",
    "y = np.array(df['Winner'])"
   ]
  },
  {
   "cell_type": "code",
   "execution_count": 13,
   "id": "4ac3d83d",
   "metadata": {},
   "outputs": [],
   "source": [
    "# Perform a simple train test split\n",
    "X_train, X_test, y_train, y_test = train_test_split(\n",
    "                                                X, \n",
    "                                                y, \n",
    "                                                random_state=1,\n",
    "                                                train_size=0.75,\n",
    "                                                shuffle=True,\n",
    "                                                stratify=y\n",
    "                                            )"
   ]
  },
  {
   "cell_type": "code",
   "execution_count": 14,
   "id": "942526b4",
   "metadata": {},
   "outputs": [],
   "source": [
    "from sklearn.preprocessing import StandardScaler\n",
    "\n",
    "scaler = StandardScaler()\n",
    "# X_scaler = scaler.fit(X_train)\n",
    "\n",
    "X_train_scaled = scaler.fit_transform(X_train)\n",
    "X_test_scaled = scaler.transform(X_test)"
   ]
  },
  {
   "cell_type": "markdown",
   "id": "467f036a",
   "metadata": {},
   "source": [
    "## Adding Random Over Sampling"
   ]
  },
  {
   "cell_type": "code",
   "execution_count": 15,
   "id": "3ccde5c8",
   "metadata": {},
   "outputs": [],
   "source": [
    "from imblearn.over_sampling import RandomOverSampler\n",
    "\n",
    "ros = RandomOverSampler(random_state=1)\n",
    "# X_resampled, y_resampled = ros.fit_resample(X_train_scaled, y_train)"
   ]
  },
  {
   "cell_type": "code",
   "execution_count": 16,
   "id": "32a15aba",
   "metadata": {},
   "outputs": [],
   "source": [
    "from sklearn.decomposition import PCA\n",
    "\n",
    "pca = PCA(n_components=10, svd_solver='auto')\n",
    "X_train_pca = pca.fit_transform(X_train_scaled)\n",
    "X_test_pca = pca.transform(X_test_scaled)\n"
   ]
  },
  {
   "cell_type": "code",
   "execution_count": 17,
   "id": "01099b87",
   "metadata": {},
   "outputs": [],
   "source": [
    "X_resampled_pca, y_resampmled_pca = ros.fit_resample(X_train_pca, y_train)"
   ]
  },
  {
   "cell_type": "code",
   "execution_count": null,
   "id": "5db3da45",
   "metadata": {},
   "outputs": [],
   "source": []
  },
  {
   "cell_type": "code",
   "execution_count": null,
   "id": "a841f6a0",
   "metadata": {},
   "outputs": [],
   "source": []
  },
  {
   "cell_type": "code",
   "execution_count": 18,
   "id": "c94f2dc9",
   "metadata": {},
   "outputs": [
    {
     "name": "stdout",
     "output_type": "stream",
     "text": [
      "                   pre       rec       spe        f1       geo       iba       sup\n",
      "\n",
      "          0       0.62      0.64      0.89      0.63      0.75      0.55        66\n",
      "          1       0.90      0.89      0.64      0.89      0.75      0.58       238\n",
      "\n",
      "avg / total       0.84      0.84      0.69      0.84      0.75      0.58       304\n",
      "\n",
      "--------------------\n",
      "Accuracy: 0.8355263157894737\n"
     ]
    }
   ],
   "source": [
    "model = SVC(kernel='rbf')\n",
    "model.fit(X_resampled_pca, y_resampmled_pca)\n",
    "\n",
    "y_pred = model.predict(X_test_pca)\n",
    "\n",
    "print(classification_report_imbalanced(y_test, y_pred))\n",
    "\n",
    "print('-'*20)\n",
    "print(f\"Accuracy: {accuracy_score(y_test, y_pred)}\")"
   ]
  },
  {
   "cell_type": "markdown",
   "id": "77679bf1",
   "metadata": {},
   "source": [
    "# Testing"
   ]
  },
  {
   "cell_type": "code",
   "execution_count": 19,
   "id": "e70a2ee4",
   "metadata": {},
   "outputs": [],
   "source": [
    "tdf = pd.read_csv(testing_data)"
   ]
  },
  {
   "cell_type": "code",
   "execution_count": 20,
   "id": "33f987b1",
   "metadata": {},
   "outputs": [
    {
     "data": {
      "text/html": [
       "<div>\n",
       "<style scoped>\n",
       "    .dataframe tbody tr th:only-of-type {\n",
       "        vertical-align: middle;\n",
       "    }\n",
       "\n",
       "    .dataframe tbody tr th {\n",
       "        vertical-align: top;\n",
       "    }\n",
       "\n",
       "    .dataframe thead th {\n",
       "        text-align: right;\n",
       "    }\n",
       "</style>\n",
       "<table border=\"1\" class=\"dataframe\">\n",
       "  <thead>\n",
       "    <tr style=\"text-align: right;\">\n",
       "      <th></th>\n",
       "      <th>Total population</th>\n",
       "      <th>Median age</th>\n",
       "      <th>% BachelorsDeg or higher</th>\n",
       "      <th>Unemployment rate</th>\n",
       "      <th>Per capita income</th>\n",
       "      <th>Total households</th>\n",
       "      <th>Average household size</th>\n",
       "      <th>% Owner occupied housing</th>\n",
       "      <th>% Renter occupied housing</th>\n",
       "      <th>% Vacant housing</th>\n",
       "      <th>Median home value</th>\n",
       "      <th>Population growth</th>\n",
       "      <th>House hold growth</th>\n",
       "      <th>Per capita income growth</th>\n",
       "    </tr>\n",
       "  </thead>\n",
       "  <tbody>\n",
       "    <tr>\n",
       "      <th>0</th>\n",
       "      <td>695751</td>\n",
       "      <td>34.692593</td>\n",
       "      <td>19.896296</td>\n",
       "      <td>10.651852</td>\n",
       "      <td>25624.074074</td>\n",
       "      <td>248724</td>\n",
       "      <td>2.816296</td>\n",
       "      <td>42.044444</td>\n",
       "      <td>25.755556</td>\n",
       "      <td>32.207407</td>\n",
       "      <td>179329.851852</td>\n",
       "      <td>-0.295185</td>\n",
       "      <td>-0.239259</td>\n",
       "      <td>2.62963</td>\n",
       "    </tr>\n",
       "    <tr>\n",
       "      <th>1</th>\n",
       "      <td>28759</td>\n",
       "      <td>37.300000</td>\n",
       "      <td>13.100000</td>\n",
       "      <td>14.300000</td>\n",
       "      <td>15978.000000</td>\n",
       "      <td>10447</td>\n",
       "      <td>2.450000</td>\n",
       "      <td>58.700000</td>\n",
       "      <td>21.200000</td>\n",
       "      <td>20.100000</td>\n",
       "      <td>79052.000000</td>\n",
       "      <td>-0.230000</td>\n",
       "      <td>-0.100000</td>\n",
       "      <td>0.71000</td>\n",
       "    </tr>\n",
       "    <tr>\n",
       "      <th>2</th>\n",
       "      <td>10926</td>\n",
       "      <td>36.200000</td>\n",
       "      <td>9.500000</td>\n",
       "      <td>17.000000</td>\n",
       "      <td>12847.000000</td>\n",
       "      <td>3749</td>\n",
       "      <td>2.480000</td>\n",
       "      <td>58.700000</td>\n",
       "      <td>20.100000</td>\n",
       "      <td>21.200000</td>\n",
       "      <td>72014.000000</td>\n",
       "      <td>-0.770000</td>\n",
       "      <td>-0.750000</td>\n",
       "      <td>1.05000</td>\n",
       "    </tr>\n",
       "    <tr>\n",
       "      <th>3</th>\n",
       "      <td>13266</td>\n",
       "      <td>40.900000</td>\n",
       "      <td>10.900000</td>\n",
       "      <td>20.900000</td>\n",
       "      <td>15340.000000</td>\n",
       "      <td>5624</td>\n",
       "      <td>2.340000</td>\n",
       "      <td>59.800000</td>\n",
       "      <td>13.900000</td>\n",
       "      <td>26.300000</td>\n",
       "      <td>68596.000000</td>\n",
       "      <td>-0.610000</td>\n",
       "      <td>-0.450000</td>\n",
       "      <td>0.73000</td>\n",
       "    </tr>\n",
       "    <tr>\n",
       "      <th>4</th>\n",
       "      <td>42841</td>\n",
       "      <td>37.000000</td>\n",
       "      <td>16.300000</td>\n",
       "      <td>22.600000</td>\n",
       "      <td>15369.000000</td>\n",
       "      <td>17046</td>\n",
       "      <td>2.480000</td>\n",
       "      <td>54.500000</td>\n",
       "      <td>28.200000</td>\n",
       "      <td>17.200000</td>\n",
       "      <td>74130.000000</td>\n",
       "      <td>-0.740000</td>\n",
       "      <td>-0.570000</td>\n",
       "      <td>0.76000</td>\n",
       "    </tr>\n",
       "    <tr>\n",
       "      <th>...</th>\n",
       "      <td>...</td>\n",
       "      <td>...</td>\n",
       "      <td>...</td>\n",
       "      <td>...</td>\n",
       "      <td>...</td>\n",
       "      <td>...</td>\n",
       "      <td>...</td>\n",
       "      <td>...</td>\n",
       "      <td>...</td>\n",
       "      <td>...</td>\n",
       "      <td>...</td>\n",
       "      <td>...</td>\n",
       "      <td>...</td>\n",
       "      <td>...</td>\n",
       "    </tr>\n",
       "    <tr>\n",
       "      <th>1896</th>\n",
       "      <td>8640</td>\n",
       "      <td>44.400000</td>\n",
       "      <td>22.700000</td>\n",
       "      <td>3.900000</td>\n",
       "      <td>22937.000000</td>\n",
       "      <td>3557</td>\n",
       "      <td>2.410000</td>\n",
       "      <td>49.500000</td>\n",
       "      <td>17.000000</td>\n",
       "      <td>33.500000</td>\n",
       "      <td>245091.000000</td>\n",
       "      <td>4.330000</td>\n",
       "      <td>4.490000</td>\n",
       "      <td>1.58000</td>\n",
       "    </tr>\n",
       "    <tr>\n",
       "      <th>1897</th>\n",
       "      <td>41019</td>\n",
       "      <td>35.200000</td>\n",
       "      <td>17.800000</td>\n",
       "      <td>7.400000</td>\n",
       "      <td>25548.000000</td>\n",
       "      <td>15939</td>\n",
       "      <td>2.530000</td>\n",
       "      <td>66.400000</td>\n",
       "      <td>21.700000</td>\n",
       "      <td>11.900000</td>\n",
       "      <td>170417.000000</td>\n",
       "      <td>1.170000</td>\n",
       "      <td>1.370000</td>\n",
       "      <td>2.20000</td>\n",
       "    </tr>\n",
       "    <tr>\n",
       "      <th>1898</th>\n",
       "      <td>21330</td>\n",
       "      <td>31.200000</td>\n",
       "      <td>15.900000</td>\n",
       "      <td>7.800000</td>\n",
       "      <td>21023.000000</td>\n",
       "      <td>7628</td>\n",
       "      <td>2.750000</td>\n",
       "      <td>63.100000</td>\n",
       "      <td>20.900000</td>\n",
       "      <td>16.000000</td>\n",
       "      <td>154416.000000</td>\n",
       "      <td>1.170000</td>\n",
       "      <td>1.360000</td>\n",
       "      <td>1.65000</td>\n",
       "    </tr>\n",
       "    <tr>\n",
       "      <th>1899</th>\n",
       "      <td>7966</td>\n",
       "      <td>41.800000</td>\n",
       "      <td>18.800000</td>\n",
       "      <td>8.900000</td>\n",
       "      <td>22564.000000</td>\n",
       "      <td>3240</td>\n",
       "      <td>2.400000</td>\n",
       "      <td>65.500000</td>\n",
       "      <td>23.400000</td>\n",
       "      <td>11.100000</td>\n",
       "      <td>133226.000000</td>\n",
       "      <td>-0.280000</td>\n",
       "      <td>-0.140000</td>\n",
       "      <td>2.07000</td>\n",
       "    </tr>\n",
       "    <tr>\n",
       "      <th>1900</th>\n",
       "      <td>7160</td>\n",
       "      <td>43.600000</td>\n",
       "      <td>15.400000</td>\n",
       "      <td>6.000000</td>\n",
       "      <td>20567.000000</td>\n",
       "      <td>2905</td>\n",
       "      <td>2.340000</td>\n",
       "      <td>63.300000</td>\n",
       "      <td>17.600000</td>\n",
       "      <td>19.100000</td>\n",
       "      <td>119712.000000</td>\n",
       "      <td>0.730000</td>\n",
       "      <td>0.930000</td>\n",
       "      <td>2.07000</td>\n",
       "    </tr>\n",
       "  </tbody>\n",
       "</table>\n",
       "<p>1901 rows × 14 columns</p>\n",
       "</div>"
      ],
      "text/plain": [
       "      Total population  Median age  % BachelorsDeg or higher  \\\n",
       "0               695751   34.692593                 19.896296   \n",
       "1                28759   37.300000                 13.100000   \n",
       "2                10926   36.200000                  9.500000   \n",
       "3                13266   40.900000                 10.900000   \n",
       "4                42841   37.000000                 16.300000   \n",
       "...                ...         ...                       ...   \n",
       "1896              8640   44.400000                 22.700000   \n",
       "1897             41019   35.200000                 17.800000   \n",
       "1898             21330   31.200000                 15.900000   \n",
       "1899              7966   41.800000                 18.800000   \n",
       "1900              7160   43.600000                 15.400000   \n",
       "\n",
       "      Unemployment rate  Per capita income  Total households  \\\n",
       "0             10.651852       25624.074074            248724   \n",
       "1             14.300000       15978.000000             10447   \n",
       "2             17.000000       12847.000000              3749   \n",
       "3             20.900000       15340.000000              5624   \n",
       "4             22.600000       15369.000000             17046   \n",
       "...                 ...                ...               ...   \n",
       "1896           3.900000       22937.000000              3557   \n",
       "1897           7.400000       25548.000000             15939   \n",
       "1898           7.800000       21023.000000              7628   \n",
       "1899           8.900000       22564.000000              3240   \n",
       "1900           6.000000       20567.000000              2905   \n",
       "\n",
       "      Average household size  % Owner occupied housing  \\\n",
       "0                   2.816296                 42.044444   \n",
       "1                   2.450000                 58.700000   \n",
       "2                   2.480000                 58.700000   \n",
       "3                   2.340000                 59.800000   \n",
       "4                   2.480000                 54.500000   \n",
       "...                      ...                       ...   \n",
       "1896                2.410000                 49.500000   \n",
       "1897                2.530000                 66.400000   \n",
       "1898                2.750000                 63.100000   \n",
       "1899                2.400000                 65.500000   \n",
       "1900                2.340000                 63.300000   \n",
       "\n",
       "      % Renter occupied housing  % Vacant housing  Median home value  \\\n",
       "0                     25.755556         32.207407      179329.851852   \n",
       "1                     21.200000         20.100000       79052.000000   \n",
       "2                     20.100000         21.200000       72014.000000   \n",
       "3                     13.900000         26.300000       68596.000000   \n",
       "4                     28.200000         17.200000       74130.000000   \n",
       "...                         ...               ...                ...   \n",
       "1896                  17.000000         33.500000      245091.000000   \n",
       "1897                  21.700000         11.900000      170417.000000   \n",
       "1898                  20.900000         16.000000      154416.000000   \n",
       "1899                  23.400000         11.100000      133226.000000   \n",
       "1900                  17.600000         19.100000      119712.000000   \n",
       "\n",
       "      Population growth  House hold growth  Per capita income growth  \n",
       "0             -0.295185          -0.239259                   2.62963  \n",
       "1             -0.230000          -0.100000                   0.71000  \n",
       "2             -0.770000          -0.750000                   1.05000  \n",
       "3             -0.610000          -0.450000                   0.73000  \n",
       "4             -0.740000          -0.570000                   0.76000  \n",
       "...                 ...                ...                       ...  \n",
       "1896           4.330000           4.490000                   1.58000  \n",
       "1897           1.170000           1.370000                   2.20000  \n",
       "1898           1.170000           1.360000                   1.65000  \n",
       "1899          -0.280000          -0.140000                   2.07000  \n",
       "1900           0.730000           0.930000                   2.07000  \n",
       "\n",
       "[1901 rows x 14 columns]"
      ]
     },
     "execution_count": 20,
     "metadata": {},
     "output_type": "execute_result"
    }
   ],
   "source": [
    "tdf"
   ]
  },
  {
   "cell_type": "code",
   "execution_count": 21,
   "id": "9357e452",
   "metadata": {},
   "outputs": [],
   "source": [
    "benchmark_X = np.array(tdf[features_col])\n",
    "benchmark_X_scaled = scaler.transform(benchmark_X)"
   ]
  },
  {
   "cell_type": "code",
   "execution_count": 22,
   "id": "cdcd13eb",
   "metadata": {},
   "outputs": [],
   "source": [
    "benchmark_X_pca = pca.fit_transform(benchmark_X_scaled)"
   ]
  },
  {
   "cell_type": "code",
   "execution_count": 23,
   "id": "c9a103aa",
   "metadata": {},
   "outputs": [],
   "source": [
    "y_test_pred = model.predict(benchmark_X_pca)"
   ]
  },
  {
   "cell_type": "code",
   "execution_count": 24,
   "id": "21cdbb53",
   "metadata": {},
   "outputs": [
    {
     "data": {
      "text/plain": [
       "1247"
      ]
     },
     "execution_count": 24,
     "metadata": {},
     "output_type": "execute_result"
    }
   ],
   "source": [
    "y_test_pred.sum()"
   ]
  },
  {
   "cell_type": "code",
   "execution_count": 25,
   "id": "dd2724a5",
   "metadata": {},
   "outputs": [
    {
     "data": {
      "text/plain": [
       "1901"
      ]
     },
     "execution_count": 25,
     "metadata": {},
     "output_type": "execute_result"
    }
   ],
   "source": [
    "len(y_test_pred)"
   ]
  },
  {
   "cell_type": "code",
   "execution_count": null,
   "id": "50dc2b0c",
   "metadata": {},
   "outputs": [],
   "source": []
  },
  {
   "cell_type": "code",
   "execution_count": 26,
   "id": "a838239e",
   "metadata": {},
   "outputs": [
    {
     "data": {
      "text/plain": [
       "0.6559705418200947"
      ]
     },
     "execution_count": 26,
     "metadata": {},
     "output_type": "execute_result"
    }
   ],
   "source": [
    "1247/1901"
   ]
  },
  {
   "cell_type": "code",
   "execution_count": 27,
   "id": "991fa9bb",
   "metadata": {},
   "outputs": [
    {
     "data": {
      "text/plain": [
       "2196"
      ]
     },
     "execution_count": 27,
     "metadata": {},
     "output_type": "execute_result"
    }
   ],
   "source": [
    "949+1247"
   ]
  },
  {
   "cell_type": "code",
   "execution_count": 28,
   "id": "22c431fe",
   "metadata": {},
   "outputs": [
    {
     "data": {
      "text/plain": [
       "918"
      ]
     },
     "execution_count": 28,
     "metadata": {},
     "output_type": "execute_result"
    }
   ],
   "source": [
    "(1901 - 1247) + 264"
   ]
  },
  {
   "cell_type": "code",
   "execution_count": null,
   "id": "f3f8e927",
   "metadata": {},
   "outputs": [],
   "source": []
  },
  {
   "cell_type": "code",
   "execution_count": 29,
   "id": "2cc96d2c",
   "metadata": {},
   "outputs": [
    {
     "data": {
      "text/html": [
       "<div>\n",
       "<style scoped>\n",
       "    .dataframe tbody tr th:only-of-type {\n",
       "        vertical-align: middle;\n",
       "    }\n",
       "\n",
       "    .dataframe tbody tr th {\n",
       "        vertical-align: top;\n",
       "    }\n",
       "\n",
       "    .dataframe thead th {\n",
       "        text-align: right;\n",
       "    }\n",
       "</style>\n",
       "<table border=\"1\" class=\"dataframe\">\n",
       "  <thead>\n",
       "    <tr style=\"text-align: right;\">\n",
       "      <th></th>\n",
       "      <th>Total population</th>\n",
       "      <th>Median age</th>\n",
       "      <th>% BachelorsDeg or higher</th>\n",
       "      <th>Unemployment rate</th>\n",
       "      <th>Per capita income</th>\n",
       "      <th>Total households</th>\n",
       "      <th>Average household size</th>\n",
       "      <th>% Owner occupied housing</th>\n",
       "      <th>% Renter occupied housing</th>\n",
       "      <th>% Vacant housing</th>\n",
       "      <th>Median home value</th>\n",
       "      <th>Population growth</th>\n",
       "      <th>House hold growth</th>\n",
       "      <th>Per capita income growth</th>\n",
       "    </tr>\n",
       "    <tr>\n",
       "      <th>Winner</th>\n",
       "      <th></th>\n",
       "      <th></th>\n",
       "      <th></th>\n",
       "      <th></th>\n",
       "      <th></th>\n",
       "      <th></th>\n",
       "      <th></th>\n",
       "      <th></th>\n",
       "      <th></th>\n",
       "      <th></th>\n",
       "      <th></th>\n",
       "      <th></th>\n",
       "      <th></th>\n",
       "      <th></th>\n",
       "    </tr>\n",
       "  </thead>\n",
       "  <tbody>\n",
       "    <tr>\n",
       "      <th>0</th>\n",
       "      <td>264</td>\n",
       "      <td>264</td>\n",
       "      <td>264</td>\n",
       "      <td>264</td>\n",
       "      <td>264</td>\n",
       "      <td>264</td>\n",
       "      <td>264</td>\n",
       "      <td>264</td>\n",
       "      <td>264</td>\n",
       "      <td>264</td>\n",
       "      <td>264</td>\n",
       "      <td>264</td>\n",
       "      <td>264</td>\n",
       "      <td>264</td>\n",
       "    </tr>\n",
       "    <tr>\n",
       "      <th>1</th>\n",
       "      <td>949</td>\n",
       "      <td>949</td>\n",
       "      <td>949</td>\n",
       "      <td>949</td>\n",
       "      <td>949</td>\n",
       "      <td>949</td>\n",
       "      <td>949</td>\n",
       "      <td>949</td>\n",
       "      <td>949</td>\n",
       "      <td>949</td>\n",
       "      <td>949</td>\n",
       "      <td>949</td>\n",
       "      <td>949</td>\n",
       "      <td>949</td>\n",
       "    </tr>\n",
       "  </tbody>\n",
       "</table>\n",
       "</div>"
      ],
      "text/plain": [
       "        Total population  Median age  % BachelorsDeg or higher  \\\n",
       "Winner                                                           \n",
       "0                    264         264                       264   \n",
       "1                    949         949                       949   \n",
       "\n",
       "        Unemployment rate  Per capita income  Total households  \\\n",
       "Winner                                                           \n",
       "0                     264                264               264   \n",
       "1                     949                949               949   \n",
       "\n",
       "        Average household size  % Owner occupied housing  \\\n",
       "Winner                                                     \n",
       "0                          264                       264   \n",
       "1                          949                       949   \n",
       "\n",
       "        % Renter occupied housing  % Vacant housing  Median home value  \\\n",
       "Winner                                                                   \n",
       "0                             264               264                264   \n",
       "1                             949               949                949   \n",
       "\n",
       "        Population growth  House hold growth  Per capita income growth  \n",
       "Winner                                                                  \n",
       "0                     264                264                       264  \n",
       "1                     949                949                       949  "
      ]
     },
     "execution_count": 29,
     "metadata": {},
     "output_type": "execute_result"
    }
   ],
   "source": [
    "df.groupby('Winner').count()"
   ]
  },
  {
   "cell_type": "code",
   "execution_count": 30,
   "id": "c5d24eee",
   "metadata": {},
   "outputs": [
    {
     "data": {
      "text/plain": [
       "1213"
      ]
     },
     "execution_count": 30,
     "metadata": {},
     "output_type": "execute_result"
    }
   ],
   "source": [
    "len(df)"
   ]
  },
  {
   "cell_type": "code",
   "execution_count": 31,
   "id": "98636d23",
   "metadata": {},
   "outputs": [
    {
     "data": {
      "text/plain": [
       "1901"
      ]
     },
     "execution_count": 31,
     "metadata": {},
     "output_type": "execute_result"
    }
   ],
   "source": [
    "len(tdf)"
   ]
  },
  {
   "cell_type": "code",
   "execution_count": null,
   "id": "914ac5a1",
   "metadata": {},
   "outputs": [],
   "source": []
  },
  {
   "cell_type": "code",
   "execution_count": 32,
   "id": "981027d1",
   "metadata": {},
   "outputs": [
    {
     "name": "stdout",
     "output_type": "stream",
     "text": [
      "red: 0.7052023121387283\n"
     ]
    }
   ],
   "source": [
    "print(f\"red: {(949 + 1247) / (len(df) + len(tdf))}\")"
   ]
  },
  {
   "cell_type": "code",
   "execution_count": 33,
   "id": "7e70287a",
   "metadata": {},
   "outputs": [
    {
     "data": {
      "text/plain": [
       "3114"
      ]
     },
     "execution_count": 33,
     "metadata": {},
     "output_type": "execute_result"
    }
   ],
   "source": [
    "len(df) + len(tdf)"
   ]
  },
  {
   "cell_type": "code",
   "execution_count": 34,
   "id": "400f3ab9",
   "metadata": {},
   "outputs": [
    {
     "data": {
      "text/plain": [
       "2196"
      ]
     },
     "execution_count": 34,
     "metadata": {},
     "output_type": "execute_result"
    }
   ],
   "source": [
    "949 + 1247"
   ]
  },
  {
   "cell_type": "code",
   "execution_count": 35,
   "id": "83737815",
   "metadata": {},
   "outputs": [],
   "source": [
    "# from sklearn.svm import SVC\n",
    "\n",
    "\n",
    "# model = SVC(kernel='rbf')\n",
    "# model.fit(X_resampled, y_resampled)\n",
    "\n",
    "# y_pred = model.predict(X_test_scaled)\n",
    "\n",
    "# print(classification_report_imbalanced(y_test, y_pred))\n",
    "\n",
    "# print('-'*20)\n",
    "# print(accuracy_score(y_test, y_pred))"
   ]
  },
  {
   "cell_type": "code",
   "execution_count": null,
   "id": "18de7864",
   "metadata": {},
   "outputs": [],
   "source": []
  },
  {
   "cell_type": "code",
   "execution_count": 36,
   "id": "f651420f",
   "metadata": {},
   "outputs": [
    {
     "data": {
      "text/plain": [
       "1213"
      ]
     },
     "execution_count": 36,
     "metadata": {},
     "output_type": "execute_result"
    }
   ],
   "source": [
    "len(df)"
   ]
  },
  {
   "cell_type": "code",
   "execution_count": null,
   "id": "45c4b6a2",
   "metadata": {},
   "outputs": [],
   "source": []
  },
  {
   "cell_type": "code",
   "execution_count": 38,
   "id": "5036923c",
   "metadata": {},
   "outputs": [
    {
     "name": "stdout",
     "output_type": "stream",
     "text": [
      "WARNING *** file size (3825153) not 512 + multiple of sector size (512)\n"
     ]
    }
   ],
   "source": [
    "odf = pd.read_excel(\"data/US_elect_county.xls\")"
   ]
  },
  {
   "cell_type": "code",
   "execution_count": 39,
   "id": "1d12c65d",
   "metadata": {},
   "outputs": [],
   "source": [
    "checkdf = odf.groupby([\"State Postal\",\"County Name\"], as_index=False).agg({'Obama vote' : 'sum', 'Romney vote' : 'sum'})"
   ]
  },
  {
   "cell_type": "code",
   "execution_count": 40,
   "id": "54509cbc",
   "metadata": {},
   "outputs": [],
   "source": [
    "checkdf['result'] = checkdf['Obama vote'] - checkdf['Romney vote']"
   ]
  },
  {
   "cell_type": "code",
   "execution_count": 41,
   "id": "c6eaa28c",
   "metadata": {},
   "outputs": [],
   "source": [
    "checkdf['result'] = checkdf['result'].apply(lambda x : 0 if (x < 0) else 1)"
   ]
  },
  {
   "cell_type": "code",
   "execution_count": 42,
   "id": "4246f559",
   "metadata": {},
   "outputs": [
    {
     "data": {
      "text/plain": [
       "1549"
      ]
     },
     "execution_count": 42,
     "metadata": {},
     "output_type": "execute_result"
    }
   ],
   "source": [
    "checkdf['result'].sum()"
   ]
  },
  {
   "cell_type": "code",
   "execution_count": 43,
   "id": "80ed6014",
   "metadata": {},
   "outputs": [],
   "source": [
    "odf['result'] = odf['%'] - odf['%.1']"
   ]
  },
  {
   "cell_type": "code",
   "execution_count": 44,
   "id": "c96671ee",
   "metadata": {},
   "outputs": [],
   "source": [
    "odf['result'] = odf['result'].apply(lambda x : 0 if (x < 0) else 1)"
   ]
  },
  {
   "cell_type": "code",
   "execution_count": 45,
   "id": "3936f4e6",
   "metadata": {},
   "outputs": [
    {
     "data": {
      "text/plain": [
       "1554"
      ]
     },
     "execution_count": 45,
     "metadata": {},
     "output_type": "execute_result"
    }
   ],
   "source": [
    "odf['result'].sum()"
   ]
  },
  {
   "cell_type": "code",
   "execution_count": 46,
   "id": "1388eaf9",
   "metadata": {},
   "outputs": [
    {
     "data": {
      "text/html": [
       "<div>\n",
       "<style scoped>\n",
       "    .dataframe tbody tr th:only-of-type {\n",
       "        vertical-align: middle;\n",
       "    }\n",
       "\n",
       "    .dataframe tbody tr th {\n",
       "        vertical-align: top;\n",
       "    }\n",
       "\n",
       "    .dataframe thead th {\n",
       "        text-align: right;\n",
       "    }\n",
       "</style>\n",
       "<table border=\"1\" class=\"dataframe\">\n",
       "  <thead>\n",
       "    <tr style=\"text-align: right;\">\n",
       "      <th></th>\n",
       "      <th>State Postal</th>\n",
       "      <th>County Name</th>\n",
       "      <th>FIPS</th>\n",
       "      <th>Obama vote</th>\n",
       "      <th>%</th>\n",
       "      <th>Romney vote</th>\n",
       "      <th>%.1</th>\n",
       "    </tr>\n",
       "    <tr>\n",
       "      <th>result</th>\n",
       "      <th></th>\n",
       "      <th></th>\n",
       "      <th></th>\n",
       "      <th></th>\n",
       "      <th></th>\n",
       "      <th></th>\n",
       "      <th></th>\n",
       "    </tr>\n",
       "  </thead>\n",
       "  <tbody>\n",
       "    <tr>\n",
       "      <th>0</th>\n",
       "      <td>2520</td>\n",
       "      <td>2520</td>\n",
       "      <td>2520</td>\n",
       "      <td>2520</td>\n",
       "      <td>2520</td>\n",
       "      <td>2520</td>\n",
       "      <td>2520</td>\n",
       "    </tr>\n",
       "    <tr>\n",
       "      <th>1</th>\n",
       "      <td>1554</td>\n",
       "      <td>1554</td>\n",
       "      <td>1554</td>\n",
       "      <td>1554</td>\n",
       "      <td>1552</td>\n",
       "      <td>1554</td>\n",
       "      <td>1552</td>\n",
       "    </tr>\n",
       "  </tbody>\n",
       "</table>\n",
       "</div>"
      ],
      "text/plain": [
       "        State Postal  County Name  FIPS  Obama vote     %  Romney vote   %.1\n",
       "result                                                                      \n",
       "0               2520         2520  2520        2520  2520         2520  2520\n",
       "1               1554         1554  1554        1554  1552         1554  1552"
      ]
     },
     "execution_count": 46,
     "metadata": {},
     "output_type": "execute_result"
    }
   ],
   "source": [
    "odf.groupby('result').count()"
   ]
  },
  {
   "cell_type": "code",
   "execution_count": null,
   "id": "d8651f27",
   "metadata": {},
   "outputs": [],
   "source": []
  },
  {
   "cell_type": "code",
   "execution_count": null,
   "id": "90755232",
   "metadata": {},
   "outputs": [],
   "source": []
  },
  {
   "cell_type": "code",
   "execution_count": null,
   "id": "74739f42",
   "metadata": {},
   "outputs": [],
   "source": []
  },
  {
   "cell_type": "code",
   "execution_count": null,
   "id": "a4d604bf",
   "metadata": {},
   "outputs": [],
   "source": []
  },
  {
   "cell_type": "code",
   "execution_count": 47,
   "id": "d718227e",
   "metadata": {},
   "outputs": [],
   "source": [
    "# from imblearn import FunctionSampler\n",
    "# from imblearn.over_sampling import ADASYN, RandomOverSampler, SMOTE\n",
    "# from imblearn.pipeline import make_pipeline\n",
    "# from sklearn.neighbors import KNeighborsClassifier\n",
    "\n",
    "# classifier = SVC(kernel='rbf', probability=True)\n",
    "\n",
    "# pipeline = [\n",
    "#     make_pipeline(FunctionSampler(), classifier),\n",
    "#     make_pipeline(RandomOverSampler(random_state=42), classifier),\n",
    "#     make_pipeline(ADASYN(random_state=42), classifier),\n",
    "#     make_pipeline(SMOTE(random_state=42), classifier),\n",
    "# ]"
   ]
  },
  {
   "cell_type": "code",
   "execution_count": 48,
   "id": "3a6d2a50",
   "metadata": {},
   "outputs": [],
   "source": [
    "# from sklearn.model_selection import StratifiedKFold\n",
    "\n",
    "# cv = StratifiedKFold(n_splits=3)"
   ]
  },
  {
   "cell_type": "code",
   "execution_count": null,
   "id": "c580b534",
   "metadata": {},
   "outputs": [],
   "source": []
  },
  {
   "cell_type": "code",
   "execution_count": 49,
   "id": "7bab1860",
   "metadata": {},
   "outputs": [],
   "source": [
    "# from sklearn.metrics import RocCurveDisplay, roc_curve, auc\n",
    "\n",
    "# pos_label = 0\n",
    "# disp = []\n",
    "\n",
    "# for model in pipeline:\n",
    "#     # compute the mean fpr/tpr to get the mean ROC curve\n",
    "#     mean_tpr, mean_fpr = 0.0, np.linspace(0, 1, 100)\n",
    "#     for train, test in cv.split(X, y):\n",
    "#         model.fit(X[train], y[train])\n",
    "#         y_proba = model.predict_proba(X[test])\n",
    "\n",
    "#         pos_label_idx = np.flatnonzero(model.classes_ == pos_label)[0]\n",
    "#         fpr, tpr, thresholds = roc_curve(\n",
    "#             y[test], y_proba[:, pos_label_idx], pos_label=pos_label\n",
    "#         )\n",
    "#         mean_tpr += np.interp(mean_fpr, fpr, tpr)\n",
    "#         mean_tpr[0] = 0.0\n",
    "\n",
    "#     mean_tpr /= cv.get_n_splits(X, y)\n",
    "#     mean_tpr[-1] = 1.0\n",
    "#     mean_auc = auc(mean_fpr, mean_tpr)\n",
    "\n",
    "#     # Create a display that we will reuse to make the aggregated plots for\n",
    "#     # all methods\n",
    "#     disp.append(\n",
    "#         RocCurveDisplay(\n",
    "#             fpr=mean_fpr,\n",
    "#             tpr=mean_tpr,\n",
    "#             roc_auc=mean_auc,\n",
    "#             estimator_name=f\"{model[0].__class__.__name__}\",\n",
    "#         )\n",
    "#     )"
   ]
  },
  {
   "cell_type": "code",
   "execution_count": 50,
   "id": "e115989d",
   "metadata": {},
   "outputs": [],
   "source": [
    "\n",
    "\n",
    "# fig, ax = plt.subplots(figsize=(9, 9))\n",
    "# for d in disp:\n",
    "#     d.plot(ax=ax, linestyle=\"--\")\n",
    "# ax.plot([0, 1], [0, 1], linestyle=\"--\", color=\"k\")\n",
    "# ax.axis(\"square\")\n",
    "# fig.suptitle(\"Comparison of over-sampling methods \\nwith a 3NN classifier\")\n",
    "# ax.set_xlim([0, 1])\n",
    "# ax.set_ylim([0, 1])\n",
    "# sns.despine(offset=10, ax=ax)\n",
    "# plt.tight_layout()\n",
    "# plt.show()"
   ]
  },
  {
   "cell_type": "code",
   "execution_count": null,
   "id": "28e6aac4",
   "metadata": {},
   "outputs": [],
   "source": []
  }
 ],
 "metadata": {
  "kernelspec": {
   "display_name": "Python 3 (ipykernel)",
   "language": "python",
   "name": "python3"
  },
  "language_info": {
   "codemirror_mode": {
    "name": "ipython",
    "version": 3
   },
   "file_extension": ".py",
   "mimetype": "text/x-python",
   "name": "python",
   "nbconvert_exporter": "python",
   "pygments_lexer": "ipython3",
   "version": "3.9.7"
  }
 },
 "nbformat": 4,
 "nbformat_minor": 5
}
